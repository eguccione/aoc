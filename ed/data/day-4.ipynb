{
 "cells": [
  {
   "attachments": {},
   "cell_type": "markdown",
   "metadata": {},
   "source": [
    "In how many assignment pairs does one range fully contain the other?\n"
   ]
  },
  {
   "cell_type": "code",
   "execution_count": 247,
   "metadata": {
    "vscode": {
     "languageId": "r"
    }
   },
   "outputs": [],
   "source": [
    "pacman::p_load(tidyverse,stringr,stringi,ds4psy)\n"
   ]
  },
  {
   "cell_type": "code",
   "execution_count": 248,
   "metadata": {
    "vscode": {
     "languageId": "r"
    }
   },
   "outputs": [],
   "source": [
    "USE_SAMPLE = FALSE"
   ]
  },
  {
   "cell_type": "code",
   "execution_count": 249,
   "metadata": {
    "vscode": {
     "languageId": "r"
    }
   },
   "outputs": [],
   "source": [
    "if (USE_SAMPLE) {\n",
    "    day4_df <- read.delim(\"ed/data/day4_test.csv\", header = TRUE, sep = \",\")\n",
    "} else {\n",
    "    day4_df <- read.delim(\"ed/data/day4.csv\", header = TRUE, sep = \",\")\n",
    "}"
   ]
  },
  {
   "cell_type": "code",
   "execution_count": 250,
   "metadata": {
    "vscode": {
     "languageId": "r"
    }
   },
   "outputs": [
    {
     "data": {
      "text/html": [
       "<table class=\"dataframe\">\n",
       "<caption>A data.frame: 1000 × 2</caption>\n",
       "<thead>\n",
       "\t<tr><th scope=col>elf1</th><th scope=col>elf2</th></tr>\n",
       "\t<tr><th scope=col>&lt;chr&gt;</th><th scope=col>&lt;chr&gt;</th></tr>\n",
       "</thead>\n",
       "<tbody>\n",
       "\t<tr><td>71-71</td><td>42-72</td></tr>\n",
       "\t<tr><td>27-28</td><td>27-99</td></tr>\n",
       "\t<tr><td>15-79</td><td>14-78</td></tr>\n",
       "\t<tr><td>3-36 </td><td>4-36 </td></tr>\n",
       "\t<tr><td>5-67 </td><td>32-57</td></tr>\n",
       "\t<tr><td>7-85 </td><td>5-86 </td></tr>\n",
       "\t<tr><td>2-97 </td><td>97-97</td></tr>\n",
       "\t<tr><td>10-73</td><td>41-55</td></tr>\n",
       "\t<tr><td>34-99</td><td>34-55</td></tr>\n",
       "\t<tr><td>80-80</td><td>25-80</td></tr>\n",
       "\t<tr><td>50-76</td><td>50-79</td></tr>\n",
       "\t<tr><td>42-70</td><td>43-70</td></tr>\n",
       "\t<tr><td>95-96</td><td>81-96</td></tr>\n",
       "\t<tr><td>6-7  </td><td>6-94 </td></tr>\n",
       "\t<tr><td>37-39</td><td>17-38</td></tr>\n",
       "\t<tr><td>39-95</td><td>26-96</td></tr>\n",
       "\t<tr><td>52-77</td><td>53-76</td></tr>\n",
       "\t<tr><td>2-99 </td><td>9-95 </td></tr>\n",
       "\t<tr><td>23-94</td><td>79-91</td></tr>\n",
       "\t<tr><td>19-78</td><td>44-77</td></tr>\n",
       "\t<tr><td>47-47</td><td>1-48 </td></tr>\n",
       "\t<tr><td>4-88 </td><td>3-52 </td></tr>\n",
       "\t<tr><td>51-60</td><td>50-52</td></tr>\n",
       "\t<tr><td>49-90</td><td>21-89</td></tr>\n",
       "\t<tr><td>76-95</td><td>97-99</td></tr>\n",
       "\t<tr><td>78-96</td><td>79-95</td></tr>\n",
       "\t<tr><td>90-90</td><td>77-90</td></tr>\n",
       "\t<tr><td>8-73 </td><td>9-72 </td></tr>\n",
       "\t<tr><td>54-54</td><td>54-74</td></tr>\n",
       "\t<tr><td>20-40</td><td>19-40</td></tr>\n",
       "\t<tr><td>⋮</td><td>⋮</td></tr>\n",
       "\t<tr><td>60-60</td><td>60-97</td></tr>\n",
       "\t<tr><td>46-66</td><td>46-67</td></tr>\n",
       "\t<tr><td>18-76</td><td>19-86</td></tr>\n",
       "\t<tr><td>40-67</td><td>20-67</td></tr>\n",
       "\t<tr><td>13-98</td><td>14-97</td></tr>\n",
       "\t<tr><td>63-65</td><td>62-64</td></tr>\n",
       "\t<tr><td>22-88</td><td>21-89</td></tr>\n",
       "\t<tr><td>45-77</td><td>46-78</td></tr>\n",
       "\t<tr><td>14-52</td><td>14-53</td></tr>\n",
       "\t<tr><td>38-59</td><td>38-60</td></tr>\n",
       "\t<tr><td>1-21 </td><td>21-21</td></tr>\n",
       "\t<tr><td>62-70</td><td>61-62</td></tr>\n",
       "\t<tr><td>50-56</td><td>23-99</td></tr>\n",
       "\t<tr><td>4-96 </td><td>53-97</td></tr>\n",
       "\t<tr><td>68-69</td><td>19-68</td></tr>\n",
       "\t<tr><td>35-76</td><td>34-76</td></tr>\n",
       "\t<tr><td>29-76</td><td>30-77</td></tr>\n",
       "\t<tr><td>12-91</td><td>13-90</td></tr>\n",
       "\t<tr><td>7-94 </td><td>96-99</td></tr>\n",
       "\t<tr><td>5-85 </td><td>5-81 </td></tr>\n",
       "\t<tr><td>56-57</td><td>57-58</td></tr>\n",
       "\t<tr><td>26-26</td><td>27-98</td></tr>\n",
       "\t<tr><td>12-28</td><td>11-58</td></tr>\n",
       "\t<tr><td>11-32</td><td>10-32</td></tr>\n",
       "\t<tr><td>10-42</td><td>10-56</td></tr>\n",
       "\t<tr><td>46-63</td><td>38-62</td></tr>\n",
       "\t<tr><td>31-95</td><td>3-94 </td></tr>\n",
       "\t<tr><td>76-82</td><td>41-75</td></tr>\n",
       "\t<tr><td>87-88</td><td>4-88 </td></tr>\n",
       "\t<tr><td>21-33</td><td>20-32</td></tr>\n",
       "</tbody>\n",
       "</table>\n"
      ],
      "text/latex": [
       "A data.frame: 1000 × 2\n",
       "\\begin{tabular}{ll}\n",
       " elf1 & elf2\\\\\n",
       " <chr> & <chr>\\\\\n",
       "\\hline\n",
       "\t 71-71 & 42-72\\\\\n",
       "\t 27-28 & 27-99\\\\\n",
       "\t 15-79 & 14-78\\\\\n",
       "\t 3-36  & 4-36 \\\\\n",
       "\t 5-67  & 32-57\\\\\n",
       "\t 7-85  & 5-86 \\\\\n",
       "\t 2-97  & 97-97\\\\\n",
       "\t 10-73 & 41-55\\\\\n",
       "\t 34-99 & 34-55\\\\\n",
       "\t 80-80 & 25-80\\\\\n",
       "\t 50-76 & 50-79\\\\\n",
       "\t 42-70 & 43-70\\\\\n",
       "\t 95-96 & 81-96\\\\\n",
       "\t 6-7   & 6-94 \\\\\n",
       "\t 37-39 & 17-38\\\\\n",
       "\t 39-95 & 26-96\\\\\n",
       "\t 52-77 & 53-76\\\\\n",
       "\t 2-99  & 9-95 \\\\\n",
       "\t 23-94 & 79-91\\\\\n",
       "\t 19-78 & 44-77\\\\\n",
       "\t 47-47 & 1-48 \\\\\n",
       "\t 4-88  & 3-52 \\\\\n",
       "\t 51-60 & 50-52\\\\\n",
       "\t 49-90 & 21-89\\\\\n",
       "\t 76-95 & 97-99\\\\\n",
       "\t 78-96 & 79-95\\\\\n",
       "\t 90-90 & 77-90\\\\\n",
       "\t 8-73  & 9-72 \\\\\n",
       "\t 54-54 & 54-74\\\\\n",
       "\t 20-40 & 19-40\\\\\n",
       "\t ⋮ & ⋮\\\\\n",
       "\t 60-60 & 60-97\\\\\n",
       "\t 46-66 & 46-67\\\\\n",
       "\t 18-76 & 19-86\\\\\n",
       "\t 40-67 & 20-67\\\\\n",
       "\t 13-98 & 14-97\\\\\n",
       "\t 63-65 & 62-64\\\\\n",
       "\t 22-88 & 21-89\\\\\n",
       "\t 45-77 & 46-78\\\\\n",
       "\t 14-52 & 14-53\\\\\n",
       "\t 38-59 & 38-60\\\\\n",
       "\t 1-21  & 21-21\\\\\n",
       "\t 62-70 & 61-62\\\\\n",
       "\t 50-56 & 23-99\\\\\n",
       "\t 4-96  & 53-97\\\\\n",
       "\t 68-69 & 19-68\\\\\n",
       "\t 35-76 & 34-76\\\\\n",
       "\t 29-76 & 30-77\\\\\n",
       "\t 12-91 & 13-90\\\\\n",
       "\t 7-94  & 96-99\\\\\n",
       "\t 5-85  & 5-81 \\\\\n",
       "\t 56-57 & 57-58\\\\\n",
       "\t 26-26 & 27-98\\\\\n",
       "\t 12-28 & 11-58\\\\\n",
       "\t 11-32 & 10-32\\\\\n",
       "\t 10-42 & 10-56\\\\\n",
       "\t 46-63 & 38-62\\\\\n",
       "\t 31-95 & 3-94 \\\\\n",
       "\t 76-82 & 41-75\\\\\n",
       "\t 87-88 & 4-88 \\\\\n",
       "\t 21-33 & 20-32\\\\\n",
       "\\end{tabular}\n"
      ],
      "text/markdown": [
       "\n",
       "A data.frame: 1000 × 2\n",
       "\n",
       "| elf1 &lt;chr&gt; | elf2 &lt;chr&gt; |\n",
       "|---|---|\n",
       "| 71-71 | 42-72 |\n",
       "| 27-28 | 27-99 |\n",
       "| 15-79 | 14-78 |\n",
       "| 3-36  | 4-36  |\n",
       "| 5-67  | 32-57 |\n",
       "| 7-85  | 5-86  |\n",
       "| 2-97  | 97-97 |\n",
       "| 10-73 | 41-55 |\n",
       "| 34-99 | 34-55 |\n",
       "| 80-80 | 25-80 |\n",
       "| 50-76 | 50-79 |\n",
       "| 42-70 | 43-70 |\n",
       "| 95-96 | 81-96 |\n",
       "| 6-7   | 6-94  |\n",
       "| 37-39 | 17-38 |\n",
       "| 39-95 | 26-96 |\n",
       "| 52-77 | 53-76 |\n",
       "| 2-99  | 9-95  |\n",
       "| 23-94 | 79-91 |\n",
       "| 19-78 | 44-77 |\n",
       "| 47-47 | 1-48  |\n",
       "| 4-88  | 3-52  |\n",
       "| 51-60 | 50-52 |\n",
       "| 49-90 | 21-89 |\n",
       "| 76-95 | 97-99 |\n",
       "| 78-96 | 79-95 |\n",
       "| 90-90 | 77-90 |\n",
       "| 8-73  | 9-72  |\n",
       "| 54-54 | 54-74 |\n",
       "| 20-40 | 19-40 |\n",
       "| ⋮ | ⋮ |\n",
       "| 60-60 | 60-97 |\n",
       "| 46-66 | 46-67 |\n",
       "| 18-76 | 19-86 |\n",
       "| 40-67 | 20-67 |\n",
       "| 13-98 | 14-97 |\n",
       "| 63-65 | 62-64 |\n",
       "| 22-88 | 21-89 |\n",
       "| 45-77 | 46-78 |\n",
       "| 14-52 | 14-53 |\n",
       "| 38-59 | 38-60 |\n",
       "| 1-21  | 21-21 |\n",
       "| 62-70 | 61-62 |\n",
       "| 50-56 | 23-99 |\n",
       "| 4-96  | 53-97 |\n",
       "| 68-69 | 19-68 |\n",
       "| 35-76 | 34-76 |\n",
       "| 29-76 | 30-77 |\n",
       "| 12-91 | 13-90 |\n",
       "| 7-94  | 96-99 |\n",
       "| 5-85  | 5-81  |\n",
       "| 56-57 | 57-58 |\n",
       "| 26-26 | 27-98 |\n",
       "| 12-28 | 11-58 |\n",
       "| 11-32 | 10-32 |\n",
       "| 10-42 | 10-56 |\n",
       "| 46-63 | 38-62 |\n",
       "| 31-95 | 3-94  |\n",
       "| 76-82 | 41-75 |\n",
       "| 87-88 | 4-88  |\n",
       "| 21-33 | 20-32 |\n",
       "\n"
      ],
      "text/plain": [
       "     elf1  elf2 \n",
       "1    71-71 42-72\n",
       "2    27-28 27-99\n",
       "3    15-79 14-78\n",
       "4    3-36  4-36 \n",
       "5    5-67  32-57\n",
       "6    7-85  5-86 \n",
       "7    2-97  97-97\n",
       "8    10-73 41-55\n",
       "9    34-99 34-55\n",
       "10   80-80 25-80\n",
       "11   50-76 50-79\n",
       "12   42-70 43-70\n",
       "13   95-96 81-96\n",
       "14   6-7   6-94 \n",
       "15   37-39 17-38\n",
       "16   39-95 26-96\n",
       "17   52-77 53-76\n",
       "18   2-99  9-95 \n",
       "19   23-94 79-91\n",
       "20   19-78 44-77\n",
       "21   47-47 1-48 \n",
       "22   4-88  3-52 \n",
       "23   51-60 50-52\n",
       "24   49-90 21-89\n",
       "25   76-95 97-99\n",
       "26   78-96 79-95\n",
       "27   90-90 77-90\n",
       "28   8-73  9-72 \n",
       "29   54-54 54-74\n",
       "30   20-40 19-40\n",
       "⋮    ⋮     ⋮    \n",
       "971  60-60 60-97\n",
       "972  46-66 46-67\n",
       "973  18-76 19-86\n",
       "974  40-67 20-67\n",
       "975  13-98 14-97\n",
       "976  63-65 62-64\n",
       "977  22-88 21-89\n",
       "978  45-77 46-78\n",
       "979  14-52 14-53\n",
       "980  38-59 38-60\n",
       "981  1-21  21-21\n",
       "982  62-70 61-62\n",
       "983  50-56 23-99\n",
       "984  4-96  53-97\n",
       "985  68-69 19-68\n",
       "986  35-76 34-76\n",
       "987  29-76 30-77\n",
       "988  12-91 13-90\n",
       "989  7-94  96-99\n",
       "990  5-85  5-81 \n",
       "991  56-57 57-58\n",
       "992  26-26 27-98\n",
       "993  12-28 11-58\n",
       "994  11-32 10-32\n",
       "995  10-42 10-56\n",
       "996  46-63 38-62\n",
       "997  31-95 3-94 \n",
       "998  76-82 41-75\n",
       "999  87-88 4-88 \n",
       "1000 21-33 20-32"
      ]
     },
     "metadata": {},
     "output_type": "display_data"
    }
   ],
   "source": [
    "day4_df"
   ]
  },
  {
   "cell_type": "code",
   "execution_count": 251,
   "metadata": {
    "vscode": {
     "languageId": "r"
    }
   },
   "outputs": [],
   "source": [
    "day4_df <- day4_df |>\n",
    "    mutate(elf1_start = gsub(\"(.*)-.*\", \"\\\\1\", elf1))|>\n",
    "    mutate(elf1_end = gsub(\"(.*)-(.*)\", \"\\\\2\", elf1))|>\n",
    "    mutate(elf2_start = gsub(\"(.*)-.*\", \"\\\\1\", elf2))|>\n",
    "    mutate(elf2_end = gsub(\"(.*)-(.*)\", \"\\\\2\", elf2))\n",
    "    # |>\n",
    "    # mutate(elf1_list = mapply(seq,elf1_start,elf1_end,USE.NAMES = FALSE))|>\n",
    "    # mutate(elf2_list = mapply(seq,elf2_start,elf2_end,USE.NAMES = FALSE))"
   ]
  },
  {
   "cell_type": "code",
   "execution_count": 252,
   "metadata": {
    "vscode": {
     "languageId": "r"
    }
   },
   "outputs": [
    {
     "data": {
      "text/html": [
       "571"
      ],
      "text/latex": [
       "571"
      ],
      "text/markdown": [
       "571"
      ],
      "text/plain": [
       "[1] 571"
      ]
     },
     "metadata": {},
     "output_type": "display_data"
    }
   ],
   "source": [
    "day4_df <- day4_df |> mutate_at(vars(contains(c(\"start\",\"end\"))),as.double) |>\n",
    "mutate(first_start = case_when(\n",
    "   elf1_start <  elf2_start ~ elf1_start,\n",
    "   elf1_start == elf2_start ~ elf1_start,\n",
    "   TRUE ~ elf2_start\n",
    ")) |> \n",
    "mutate(last_end = case_when(\n",
    "   elf1_end >  elf2_end ~ elf1_end,\n",
    "   elf1_end ==  elf2_end ~ elf1_end,\n",
    "   TRUE ~ elf2_end)\n",
    ") |> \n",
    "mutate(fully_contain = case_when(\n",
    "elf1_start >= elf2_start & elf1_end <= elf2_end ~ TRUE,\n",
    "elf2_start >= elf1_start & elf2_end <= elf1_end ~ TRUE,\n",
    "TRUE ~ FALSE\n",
    "   ))\n",
    "\n",
    "sum(day4_df$fully_contain)\n"
   ]
  },
  {
   "cell_type": "code",
   "execution_count": 288,
   "metadata": {
    "vscode": {
     "languageId": "r"
    }
   },
   "outputs": [
    {
     "data": {
      "text/html": [
       "<table class=\"dataframe\">\n",
       "<caption>A data.frame: 1 × 1</caption>\n",
       "<thead>\n",
       "\t<tr><th scope=col>sum</th></tr>\n",
       "\t<tr><th scope=col>&lt;int&gt;</th></tr>\n",
       "</thead>\n",
       "<tbody>\n",
       "\t<tr><td>917</td></tr>\n",
       "</tbody>\n",
       "</table>\n"
      ],
      "text/latex": [
       "A data.frame: 1 × 1\n",
       "\\begin{tabular}{l}\n",
       " sum\\\\\n",
       " <int>\\\\\n",
       "\\hline\n",
       "\t 917\\\\\n",
       "\\end{tabular}\n"
      ],
      "text/markdown": [
       "\n",
       "A data.frame: 1 × 1\n",
       "\n",
       "| sum &lt;int&gt; |\n",
       "|---|\n",
       "| 917 |\n",
       "\n"
      ],
      "text/plain": [
       "  sum\n",
       "1 917"
      ]
     },
     "metadata": {},
     "output_type": "display_data"
    }
   ],
   "source": [
    "day4_df <- day4_df |>\n",
    "    mutate(start = elf1_start - elf2_start) |>\n",
    "    mutate(end = elf1_end - elf2_start) |>\n",
    "    mutate(overlap = case_when(\n",
    "        elf1_start == elf2_start | elf1_end == elf2_end ~ TRUE,\n",
    "        elf1_start == elf2_end | elf2_start == elf1_end ~ TRUE,\n",
    "        elf1_start > elf2_start & elf1_start < elf2_end ~ TRUE,\n",
    "        elf2_start > elf1_start & elf2_start < elf1_end ~ TRUE,\n",
    "        TRUE ~ FALSE\n",
    "    ))\n",
    "\n",
    "day4_df |>\n",
    "    #   filter(overlap == 0)\n",
    "    summarise(sum = sum(overlap))"
   ]
  }
 ],
 "metadata": {
  "kernelspec": {
   "display_name": "R",
   "language": "R",
   "name": "ir"
  },
  "language_info": {
   "codemirror_mode": "r",
   "file_extension": ".r",
   "mimetype": "text/x-r-source",
   "name": "R",
   "pygments_lexer": "r",
   "version": "4.1.3"
  },
  "orig_nbformat": 4,
  "vscode": {
   "interpreter": {
    "hash": "31f2aee4e71d21fbe5cf8b01ff0e069b9275f58929596ceb00d14d90e3e16cd6"
   }
  }
 },
 "nbformat": 4,
 "nbformat_minor": 2
}
