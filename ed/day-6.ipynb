{
 "cells": [
  {
   "cell_type": "code",
   "execution_count": null,
   "metadata": {
    "vscode": {
     "languageId": "r"
    }
   },
   "outputs": [],
   "source": [
    "pacman::p_load(tidyverse, stringr, stringi, ds4psy, janitor)"
   ]
  },
  {
   "cell_type": "code",
   "execution_count": null,
   "metadata": {
    "vscode": {
     "languageId": "r"
    }
   },
   "outputs": [],
   "source": [
    "install.packages(\"stringr\", update = TRUE)"
   ]
  },
  {
   "cell_type": "code",
   "execution_count": null,
   "metadata": {
    "vscode": {
     "languageId": "r"
    }
   },
   "outputs": [],
   "source": [
    "USE_SAMPLE <- FALSE\n",
    "encoding <- guess_encoding(\"data/day5_crates_test\", n_max = 1000) |>\n",
    "    filter(confidence == max(confidence)) |>\n",
    "    pull(encoding)"
   ]
  },
  {
   "cell_type": "code",
   "execution_count": null,
   "metadata": {
    "vscode": {
     "languageId": "r"
    }
   },
   "outputs": [],
   "source": [
    "if (USE_SAMPLE) {\n",
    "    ext <- \"_test\"\n",
    "} else {\n",
    "    ext <- \"\"\n",
    "}\n",
    "\n",
    "datastream <-\n",
    "    readLines(paste0(\"data/day_6\", ext), skipNul = TRUE, encoding = encoding)\n",
    "\n",
    "datastream"
   ]
  },
  {
   "cell_type": "code",
   "execution_count": null,
   "metadata": {
    "vscode": {
     "languageId": "r"
    }
   },
   "outputs": [],
   "source": [
    "\n",
    "find_first = function(string){\n",
    "\n",
    "sub_strings <- list()\n",
    "for (i in 1:14){\n",
    "sub_strings[i] <- str_extract_all(substring(string,i),\"([a-z]{14})\")\n",
    "}\n",
    "\n",
    "position_unique <- function(input){\n",
    "\n",
    "max(str_count(input,letters) > 1)\n",
    "\n",
    "}\n",
    "sub_strings <- sub_strings |>  unlist()\n",
    "\n",
    "str_locate(string,sub_strings[which(lapply(sub_strings,position_unique) ==FALSE)])[,2] |> min()\n",
    "\n",
    "}\n",
    "\n",
    "lapply(datastream,find_first)"
   ]
  }
 ],
 "metadata": {
  "kernelspec": {
   "display_name": "R",
   "language": "R",
   "name": "ir"
  },
  "language_info": {
   "codemirror_mode": "r",
   "file_extension": ".r",
   "mimetype": "text/x-r-source",
   "name": "R",
   "pygments_lexer": "r",
   "version": "4.1.3"
  },
  "orig_nbformat": 4,
  "vscode": {
   "interpreter": {
    "hash": "31f2aee4e71d21fbe5cf8b01ff0e069b9275f58929596ceb00d14d90e3e16cd6"
   }
  }
 },
 "nbformat": 4,
 "nbformat_minor": 2
}
