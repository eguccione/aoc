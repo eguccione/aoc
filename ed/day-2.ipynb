{
 "cells": [
  {
   "cell_type": "code",
   "execution_count": null,
   "metadata": {
    "vscode": {
     "languageId": "r"
    }
   },
   "outputs": [],
   "source": [
    "pacman::p_load(tidyverse,rvest)"
   ]
  },
  {
   "cell_type": "code",
   "execution_count": null,
   "metadata": {
    "vscode": {
     "languageId": "r"
    }
   },
   "outputs": [],
   "source": [
    "rps_df <- read.delim(\"data/day2.tsv\",header = FALSE, sep = \" \",)\n",
    "names(rps_df) <- c(\"opponent\",\"me\")\n",
    "scoring = data.frame(letter=c(\"A\",\"B\",\"C\",\"X\",\"Y\",\"Z\"),\n",
    "shape=c(\"Rock\",\"Paper\",\"Scissors\",\"Rock\",\"Paper\",\"Scissors\"),score = c(1,2,3,1,2,3))\n",
    "\n",
    "rps_df |> \n",
    "left_join(scoring,by = c(\"opponent\" = \"letter\")) |> \n",
    "left_join(scoring,by = c(\"me\" = \"letter\"), suffix = c(\"_op\",\"_me\")) |>\n",
    "mutate(outcome_score = case_when(\n",
    "    shape_op == shape_me ~ 3,\n",
    "    shape_op == \"Rock\" & shape_me == \"Scissors\" ~ 0,\n",
    "    shape_op == \"Scissors\" & shape_me == \"Paper\" ~ 0,\n",
    "    shape_op == \"Paper\" & shape_me == \"Rock\" ~ 0,\n",
    "    TRUE ~ 6)) |> \n",
    "    mutate(total_score_me = outcome_score+score_me) |> pull(total_score_me) |>\n",
    "    sum()\n"
   ]
  },
  {
   "cell_type": "markdown",
   "metadata": {},
   "source": [
    "X means you need to lose\n",
    "\n",
    "Y means you need to  draw\n",
    "\n",
    "Z means you need to win"
   ]
  },
  {
   "cell_type": "markdown",
   "metadata": {},
   "source": [
    "Rock    Paper   Scissors\n",
    "\n",
    "1       2       3\n",
    "\n",
    "A       B       C"
   ]
  },
  {
   "cell_type": "code",
   "execution_count": null,
   "metadata": {
    "vscode": {
     "languageId": "r"
    }
   },
   "outputs": [],
   "source": [
    "m <- matrix(c(c(3,1,2),c(1,2,3),c(2,3,1)), nrow = 3)\n",
    "row.names(m) <- c('X' ,'Y', 'Z')\n",
    "colnames(m) <- c('A', 'B', 'C')\n",
    "\n",
    "results_df <- data.frame(\n",
    "  result_code = rep(row.names(m), ncol(m)),\n",
    "  opponent = rep(colnames(m), each = nrow(m)),\n",
    "  Shape_score = as.vector(m),\n",
    "  result_score = rep(c(0,3,6), ncol(m)))\n"
   ]
  },
  {
   "cell_type": "code",
   "execution_count": null,
   "metadata": {
    "vscode": {
     "languageId": "r"
    }
   },
   "outputs": [],
   "source": [
    "rps_df |> rename(\"result_code\" =\"me\") |>\n",
    "left_join(results_df) |> mutate(total_score = Shape_score + result_score) |> summarise(total = sum(total_score))\n",
    "\n",
    "    "
   ]
  }
 ],
 "metadata": {
  "kernelspec": {
   "display_name": "R",
   "language": "R",
   "name": "ir"
  },
  "language_info": {
   "codemirror_mode": "r",
   "file_extension": ".r",
   "mimetype": "text/x-r-source",
   "name": "R",
   "pygments_lexer": "r",
   "version": "4.2.2"
  },
  "orig_nbformat": 4,
  "vscode": {
   "interpreter": {
    "hash": "31f2aee4e71d21fbe5cf8b01ff0e069b9275f58929596ceb00d14d90e3e16cd6"
   }
  }
 },
 "nbformat": 4,
 "nbformat_minor": 2
}
