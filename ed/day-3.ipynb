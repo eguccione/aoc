{
 "cells": [
  {
   "cell_type": "markdown",
   "metadata": {},
   "source": [
    "two large compartments\n",
    "\n",
    "All items of a given type are meant to go into exactly one of the two compartments\n",
    "failed at \n",
    "\n",
    "The list of items for each rucksack is given as characters all on a single line.\n",
    "\n",
    "A given rucksack always has the same number of items in each of its two compartments\n",
    "\n",
    "so the first half of the characters represent items in the first compartment, while the second \n",
    "half of the characters represent items in the second compartment.    "
   ]
  },
  {
   "cell_type": "markdown",
   "metadata": {},
   "source": [
    "Lowercase item types a through z have priorities 1 through 26.\n",
    "Uppercase item types A through Z have priorities 27 through 52. "
   ]
  },
  {
   "cell_type": "code",
   "execution_count": 1,
   "metadata": {
    "vscode": {
     "languageId": "r"
    }
   },
   "outputs": [],
   "source": [
    "pacman::p_load(tidyverse,stringr,stringi,ds4psy)\n"
   ]
  },
  {
   "cell_type": "code",
   "execution_count": 2,
   "metadata": {
    "vscode": {
     "languageId": "r"
    }
   },
   "outputs": [
    {
     "name": "stderr",
     "output_type": "stream",
     "text": [
      "\u001b[1m\u001b[22mJoining, by = \"letters\"\n"
     ]
    },
    {
     "data": {
      "text/html": [
       "<table class=\"dataframe\">\n",
       "<caption>A data.frame: 1 × 1</caption>\n",
       "<thead>\n",
       "\t<tr><th scope=col>sum</th></tr>\n",
       "\t<tr><th scope=col>&lt;int&gt;</th></tr>\n",
       "</thead>\n",
       "<tbody>\n",
       "\t<tr><td>8072</td></tr>\n",
       "</tbody>\n",
       "</table>\n"
      ],
      "text/latex": [
       "A data.frame: 1 × 1\n",
       "\\begin{tabular}{l}\n",
       " sum\\\\\n",
       " <int>\\\\\n",
       "\\hline\n",
       "\t 8072\\\\\n",
       "\\end{tabular}\n"
      ],
      "text/markdown": [
       "\n",
       "A data.frame: 1 × 1\n",
       "\n",
       "| sum &lt;int&gt; |\n",
       "|---|\n",
       "| 8072 |\n",
       "\n"
      ],
      "text/plain": [
       "  sum \n",
       "1 8072"
      ]
     },
     "metadata": {},
     "output_type": "display_data"
    }
   ],
   "source": [
    "day3_df <- read.delim(\"data/day3.csv\", header = FALSE, sep = \" \")\n",
    "lookup <- data.frame(letters = c(tolower(LETTERS[seq( from = 1, to = 26 )]),LETTERS[seq( from = 1, to = 26 )]), numbers = 1:52)\n",
    "output_raw <- day3_df |>\n",
    "    select(pack = V1) |>\n",
    "    mutate(comp_size = nchar(pack) / 2)  |>\n",
    "    mutate(comp_1 = str_sub(pack, 0, comp_size))  |>\n",
    "     mutate(comp_2 = str_sub(pack, comp_size + 1)) |>\n",
    "    mutate(comp_1 = (strsplit(comp_1,split = \"\"))) |>\n",
    "    mutate(comp_2 = (strsplit(comp_2,split = \"\")))\n",
    "    \n",
    "    output_raw |>\n",
    "    mutate(letters = mapply(intersect,output_raw$comp_1,output_raw$comp_2)) |>\n",
    "        left_join(lookup)  |>  summarise(sum = sum(numbers))\n",
    "\n"
   ]
  },
  {
   "cell_type": "code",
   "execution_count": 3,
   "metadata": {
    "vscode": {
     "languageId": "r"
    }
   },
   "outputs": [],
   "source": [
    " output_raw <- \n",
    "day3_df |>\n",
    "    select(pack = V1) \n"
   ]
  },
  {
   "cell_type": "code",
   "execution_count": 36,
   "metadata": {
    "vscode": {
     "languageId": "r"
    }
   },
   "outputs": [],
   "source": [
    "raw_list <- split(output_raw$pack, 1:nrow(output_raw))\n",
    "\n",
    "the_list <- list()\n",
    "\n",
    "for (x in raw_list) {\n",
    "    print(\"x\")\n",
    "    to_check <- strsplit(x, split = \"\") |> unlist()\n",
    "    for (y in to_check) {\n",
    "        for (z in raw_list) {\n",
    "            z <- strsplit(z, split = \"\") |> unlist()\n",
    "                print(\"z\")\n",
    "\n",
    "            if((y %in% z)) {\n",
    "the_list[[x]] <- list(z)\n",
    "\n",
    "            }\n",
    "        }\n",
    "    }\n",
    "}\n",
    "\n"
   ]
  }
 ],
 "metadata": {
  "kernelspec": {
   "display_name": "R",
   "language": "R",
   "name": "ir"
  },
  "language_info": {
   "codemirror_mode": "r",
   "file_extension": ".r",
   "mimetype": "text/x-r-source",
   "name": "R",
   "pygments_lexer": "r",
   "version": "4.2.2"
  },
  "orig_nbformat": 4
 },
 "nbformat": 4,
 "nbformat_minor": 2
}
