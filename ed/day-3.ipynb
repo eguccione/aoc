{
 "cells": [
  {
   "cell_type": "markdown",
   "metadata": {},
   "source": [
    "two large compartments\n",
    "\n",
    "All items of a given type are meant to go into exactly one of the two compartments\n",
    "failed at \n",
    "\n",
    "The list of items for each rucksack is given as characters all on a single line.\n",
    "\n",
    "A given rucksack always has the same number of items in each of its two compartments\n",
    "\n",
    "so the first half of the characters represent items in the first compartment, while the second \n",
    "half of the characters represent items in the second compartment.    "
   ]
  },
  {
   "cell_type": "markdown",
   "metadata": {},
   "source": [
    "Lowercase item types a through z have priorities 1 through 26.\n",
    "Uppercase item types A through Z have priorities 27 through 52. "
   ]
  },
  {
   "cell_type": "code",
   "execution_count": 69,
   "metadata": {},
   "outputs": [],
   "source": [
    "pacman::p_load(tidyverse,stringr,stringi,ds4psy)\n"
   ]
  },
  {
   "cell_type": "code",
   "execution_count": 70,
   "metadata": {},
   "outputs": [],
   "source": [
    "day3_df <- read.delim(\"/workspaces/repos/sandbox/advent_code/ed/data/day3.csv\", header = FALSE, sep = \" \")\n",
    "lookup <- data.frame(letters = c(tolower(LETTERS[seq( from = 1, to = 26 )]),LETTERS[seq( from = 1, to = 26 )]), numbers = 1:52)\n",
    "output_raw <- day3_df |>\n",
    "    select(pack = V1) |>\n",
    "    mutate(comp_size = nchar(pack) / 2)  |>\n",
    "    mutate(comp_1 = str_sub(pack, 0, comp_size))  |>\n",
    "     mutate(comp_2 = str_sub(pack, comp_size + 1)) |>\n",
    "    mutate(comp_1 = (strsplit(comp_1,split = \"\"))) |>\n",
    "    mutate(comp_2 = (strsplit(comp_2,split = \"\")))\n",
    "    \n",
    "    # output_raw |>\n",
    "    # mutate(letters = mapply(intersect,output_raw$comp_1,output_raw$comp_2)) |>\n",
    "    #     left_join(lookup)  |>  summarise(sum = sum(numbers))\n",
    "\n"
   ]
  },
  {
   "cell_type": "code",
   "execution_count": 71,
   "metadata": {},
   "outputs": [],
   "source": [
    " output_raw <- \n",
    "day3_df |> \n",
    "    select(pack = V1) |> \n",
    "    mutate(id = seq(1:nrow(output_raw))) |>\n",
    "    mutate(pack_list = (strsplit(pack,split = \"\")))\n",
    "\n",
    "\n"
   ]
  },
  {
   "cell_type": "code",
   "execution_count": 72,
   "metadata": {},
   "outputs": [
    {
     "name": "stderr",
     "output_type": "stream",
     "text": [
      "\u001b[1m\u001b[22mJoining, by = \"letters\"\n"
     ]
    },
    {
     "data": {
      "text/html": [
       "<table class=\"dataframe\">\n",
       "<caption>A tibble: 1 × 1</caption>\n",
       "<thead>\n",
       "\t<tr><th scope=col>sum</th></tr>\n",
       "\t<tr><th scope=col>&lt;int&gt;</th></tr>\n",
       "</thead>\n",
       "<tbody>\n",
       "\t<tr><td>2567</td></tr>\n",
       "</tbody>\n",
       "</table>\n"
      ],
      "text/latex": [
       "A tibble: 1 × 1\n",
       "\\begin{tabular}{l}\n",
       " sum\\\\\n",
       " <int>\\\\\n",
       "\\hline\n",
       "\t 2567\\\\\n",
       "\\end{tabular}\n"
      ],
      "text/markdown": [
       "\n",
       "A tibble: 1 × 1\n",
       "\n",
       "| sum &lt;int&gt; |\n",
       "|---|\n",
       "| 2567 |\n",
       "\n"
      ],
      "text/plain": [
       "  sum \n",
       "1 2567"
      ]
     },
     "metadata": {},
     "output_type": "display_data"
    }
   ],
   "source": [
    "\n",
    "\n",
    "triple_intersect <- function(a,b,c){\n",
    "Reduce(intersect, list(a,b,c))\n",
    "}\n",
    "pack_one <- output_raw |>\n",
    "slice( seq(1, nrow(output_raw), 3))\n",
    "pack_two <- output_raw |>\n",
    "slice( seq(2, nrow(output_raw), 3))\n",
    "pack_three <- output_raw |>\n",
    "slice( seq(3, nrow(output_raw), 3))\n",
    "\n",
    "\n",
    "badges <- mapply(triple_intersect,pack_one$pack_list,pack_two$pack_list,pack_three$pack_list) |> as_tibble_col(\"letters\") |> left_join(lookup)\n",
    "badges  |>  summarize(sum= sum(numbers))"
   ]
  }
 ],
 "metadata": {
  "kernelspec": {
   "display_name": "Python 3",
   "language": "python",
   "name": "python3"
  },
  "language_info": {
   "codemirror_mode": "r",
   "file_extension": ".r",
   "mimetype": "text/x-r-source",
   "name": "python",
   "pygments_lexer": "r",
   "version": "3.8.10 (default, Nov 14 2022, 12:59:47) \n[GCC 9.4.0]"
  },
  "orig_nbformat": 4,
  "vscode": {
   "interpreter": {
    "hash": "31f2aee4e71d21fbe5cf8b01ff0e069b9275f58929596ceb00d14d90e3e16cd6"
   }
  }
 },
 "nbformat": 4,
 "nbformat_minor": 2
}
