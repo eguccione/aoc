{
 "cells": [
  {
   "attachments": {},
   "cell_type": "markdown",
   "metadata": {},
   "source": [
    "In how many assignment pairs does one range fully contain the other?\n"
   ]
  },
  {
   "cell_type": "code",
   "execution_count": null,
   "metadata": {
    "vscode": {
     "languageId": "r"
    }
   },
   "outputs": [],
   "source": [
    "pacman::p_load(tidyverse,stringr,stringi,ds4psy)\n"
   ]
  },
  {
   "cell_type": "code",
   "execution_count": null,
   "metadata": {
    "vscode": {
     "languageId": "r"
    }
   },
   "outputs": [],
   "source": [
    "USE_SAMPLE = FALSE"
   ]
  },
  {
   "cell_type": "code",
   "execution_count": null,
   "metadata": {
    "vscode": {
     "languageId": "r"
    }
   },
   "outputs": [],
   "source": [
    "if (USE_SAMPLE) {\n",
    "    day4_df <- read.delim(\"ed/data/day4_test.csv\", header = TRUE, sep = \",\")\n",
    "} else {\n",
    "    day4_df <- read.delim(\"ed/data/day4.csv\", header = TRUE, sep = \",\")\n",
    "}"
   ]
  },
  {
   "cell_type": "code",
   "execution_count": null,
   "metadata": {
    "vscode": {
     "languageId": "r"
    }
   },
   "outputs": [],
   "source": [
    "day4_df"
   ]
  },
  {
   "cell_type": "code",
   "execution_count": null,
   "metadata": {
    "vscode": {
     "languageId": "r"
    }
   },
   "outputs": [],
   "source": [
    "day4_df <- day4_df |>\n",
    "    mutate(elf1_start = gsub(\"(.*)-.*\", \"\\\\1\", elf1))|>\n",
    "    mutate(elf1_end = gsub(\"(.*)-(.*)\", \"\\\\2\", elf1))|>\n",
    "    mutate(elf2_start = gsub(\"(.*)-.*\", \"\\\\1\", elf2))|>\n",
    "    mutate(elf2_end = gsub(\"(.*)-(.*)\", \"\\\\2\", elf2))\n",
    "    # |>\n",
    "    # mutate(elf1_list = mapply(seq,elf1_start,elf1_end,USE.NAMES = FALSE))|>\n",
    "    # mutate(elf2_list = mapply(seq,elf2_start,elf2_end,USE.NAMES = FALSE))"
   ]
  },
  {
   "cell_type": "code",
   "execution_count": null,
   "metadata": {
    "vscode": {
     "languageId": "r"
    }
   },
   "outputs": [],
   "source": [
    "day4_df <- day4_df |> mutate_at(vars(contains(c(\"start\",\"end\"))),as.double) |>\n",
    "mutate(first_start = case_when(\n",
    "   elf1_start <  elf2_start ~ elf1_start,\n",
    "   elf1_start == elf2_start ~ elf1_start,\n",
    "   TRUE ~ elf2_start\n",
    ")) |> \n",
    "mutate(last_end = case_when(\n",
    "   elf1_end >  elf2_end ~ elf1_end,\n",
    "   elf1_end ==  elf2_end ~ elf1_end,\n",
    "   TRUE ~ elf2_end)\n",
    ") |> \n",
    "mutate(fully_contain = case_when(\n",
    "elf1_start >= elf2_start & elf1_end <= elf2_end ~ TRUE,\n",
    "elf2_start >= elf1_start & elf2_end <= elf1_end ~ TRUE,\n",
    "TRUE ~ FALSE\n",
    "   ))\n",
    "\n",
    "sum(day4_df$fully_contain)\n"
   ]
  },
  {
   "cell_type": "code",
   "execution_count": null,
   "metadata": {
    "vscode": {
     "languageId": "r"
    }
   },
   "outputs": [],
   "source": [
    "day4_df <- day4_df |>\n",
    "    mutate(start = elf1_start - elf2_start) |>\n",
    "    mutate(end = elf1_end - elf2_start) |>\n",
    "    mutate(overlap = case_when(\n",
    "        elf1_start == elf2_start | elf1_end == elf2_end ~ TRUE,\n",
    "        elf1_start == elf2_end | elf2_start == elf1_end ~ TRUE,\n",
    "        elf1_start > elf2_start & elf1_start < elf2_end ~ TRUE,\n",
    "        elf2_start > elf1_start & elf2_start < elf1_end ~ TRUE,\n",
    "        TRUE ~ FALSE\n",
    "    ))\n",
    "\n",
    "day4_df |>\n",
    "    #   filter(overlap == 0)\n",
    "    summarise(sum = sum(overlap))"
   ]
  }
 ],
 "metadata": {
  "kernelspec": {
   "display_name": "R",
   "language": "R",
   "name": "ir"
  },
  "language_info": {
   "codemirror_mode": "r",
   "file_extension": ".r",
   "mimetype": "text/x-r-source",
   "name": "R",
   "pygments_lexer": "r",
   "version": "4.1.3"
  },
  "orig_nbformat": 4,
  "vscode": {
   "interpreter": {
    "hash": "31f2aee4e71d21fbe5cf8b01ff0e069b9275f58929596ceb00d14d90e3e16cd6"
   }
  }
 },
 "nbformat": 4,
 "nbformat_minor": 2
}
