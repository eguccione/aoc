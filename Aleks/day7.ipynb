{
 "cells": [
  {
   "cell_type": "code",
   "execution_count": null,
   "id": "706ad5dd-8238-46bb-b8a1-a88174a06de1",
   "metadata": {},
   "outputs": [],
   "source": [
    "import re\n",
    "from warnings import warn"
   ]
  },
  {
   "cell_type": "code",
   "execution_count": null,
   "id": "840ddbe7-8925-42d9-b5d4-ba6ebe4db755",
   "metadata": {},
   "outputs": [],
   "source": [
    "TEST = False"
   ]
  },
  {
   "cell_type": "code",
   "execution_count": null,
   "id": "e4001833-841f-4392-876c-bb6de43842b3",
   "metadata": {},
   "outputs": [],
   "source": [
    "if TEST:\n",
    "    filename = \"data/input_7_test\"\n",
    "else:\n",
    "    filename = \"data/input_7\""
   ]
  },
  {
   "cell_type": "code",
   "execution_count": null,
   "id": "77239366-09c2-4eef-a12e-25db7f3a4a5f",
   "metadata": {},
   "outputs": [],
   "source": [
    "with open(filename) as file:\n",
    "    input_str = file.read()"
   ]
  },
  {
   "cell_type": "code",
   "execution_count": null,
   "id": "1920abc2-897f-4ce6-8867-bcda9de35f38",
   "metadata": {},
   "outputs": [],
   "source": [
    "terminal = input_str.strip(\"\\n\").split(\"\\n\")"
   ]
  },
  {
   "cell_type": "code",
   "execution_count": null,
   "id": "893d8248-e14e-4f4f-8fba-b7cba84ca92f",
   "metadata": {},
   "outputs": [],
   "source": [
    "terminal[-10:]"
   ]
  },
  {
   "cell_type": "code",
   "execution_count": null,
   "id": "4a9a730f-4710-4b37-9f8b-1a05cb8fd758",
   "metadata": {},
   "outputs": [],
   "source": [
    "class Tree:\n",
    "    \n",
    "    def __init__(self, name, kind, parent, size=None):\n",
    "        self.name = name\n",
    "        self.kind = kind\n",
    "        self.ref = self.kind +'-'+self.name\n",
    "        self.parent = parent\n",
    "        self.children = {}\n",
    "        self.size = size\n",
    "    \n",
    "    def add_child(self, tree):\n",
    "        '''Add a child tree'''\n",
    "        if self.kind == 'dir':\n",
    "            if tree.ref in self.children.keys():\n",
    "                warn(\"Attempt to add an existing child {0} to {1} - stopped\".format(tree.name, self.name))\n",
    "            else:\n",
    "                self.children[tree.ref] = tree\n",
    "        else:\n",
    "            raise TypeError('Trying to add files to a non-directory')\n",
    "    \n",
    "    def get_child(self, child_ref):\n",
    "        '''Return child by name'''\n",
    "        try:\n",
    "            child = self.children[child_ref]\n",
    "        except KeyError:\n",
    "            raise KeyError('Tree {0} has no child {1}'.format(self.name, child_ref)) from None\n",
    "        return child\n",
    "    \n",
    "    def get_all_dirs(self):\n",
    "        if self.kind=='file':\n",
    "            dirs = []\n",
    "        else:\n",
    "            dirs = [(self.name, self.size)]\n",
    "            for child in self.children.values():\n",
    "                dirs += child.get_all_dirs()\n",
    "        return dirs\n",
    "    \n",
    "    def render_tree(self, n=0):\n",
    "        if self.kind=='file':\n",
    "            if self.size is not None:\n",
    "                rep = \"{2}- {0} ({1}, size={3})\".format(self.name, self.kind, n*'  ', self.size)\n",
    "            else:\n",
    "                rep = \"{2}- {0} ({1})\".format(self.name, self.kind, n*'  ')\n",
    "            return rep\n",
    "        else:\n",
    "            if self.size is not None:\n",
    "                rep = \"{2}- {0} ({1}, size={3})\".format(self.name, self.kind, n*'  ', self.size)\n",
    "            else:\n",
    "                rep =  \"{2}- {0} ({1})\".format(self.name, self.kind, n*'  ')\n",
    "            for child in self.children.values():\n",
    "                rep = rep + '\\n{0}'.format((n+1)*'  ' + child.render_tree(n=n+1))\n",
    "            return rep\n",
    "    \n",
    "    def get_size(self):\n",
    "        if self.kind=='dir':\n",
    "            self.size = sum([child.get_size() for child in self.children.values()])\n",
    "        return self.size\n",
    "    \n",
    "    def __repr__(self):\n",
    "        return self.render_tree()\n",
    "    \n",
    "    def __str__(self):\n",
    "        return self.render_tree()\n",
    "    "
   ]
  },
  {
   "cell_type": "code",
   "execution_count": null,
   "id": "403f77d4-7554-4506-8344-1af12860495c",
   "metadata": {},
   "outputs": [],
   "source": [
    "def build_tree(terminal, get_size=True, verbose=False):\n",
    "    file_system = Tree(\"/\", \"dir\", None)\n",
    "    cwd = file_system\n",
    "\n",
    "    for line in terminal[1:]:\n",
    "        if verbose:\n",
    "            print(line)\n",
    "            print(\"  cwd = {0}\".format(cwd.name))\n",
    "        if line[0]==\"$\": # Command\n",
    "            if line[2:4]=='cd':\n",
    "                if line[5:7]=='..': # go up a level\n",
    "                    if verbose: print('  going up a level')\n",
    "                    cwd = cwd.parent\n",
    "                else: # go into child directory\n",
    "                    if verbose: print('  going down a level into {0}'.format(cwd.get_child('dir-' + line[5:]).name))\n",
    "                    cwd = cwd.get_child('dir-' + line[5:])\n",
    "            else: # ls command\n",
    "                if verbose: \n",
    "                    print(\"  listing files in {0}\".format(cwd.name))\n",
    "                else:\n",
    "                    continue \n",
    "        elif line[:3]=='dir': # ls output: directory\n",
    "            name = line.split(\" \")[-1]\n",
    "            new_tree = Tree(name, 'dir', cwd)\n",
    "            cwd.add_child(new_tree)\n",
    "            if verbose: print(\"  Addind new directory {0} to current directory {1}\"\n",
    "                              .format(cwd.get_child('dir-' + name).name, cwd.name))\n",
    "        else: # ls output: file\n",
    "            size, name  = line.split(\" \")\n",
    "            new_tree = Tree(name, 'file', cwd, size=int(size))\n",
    "            cwd.add_child(new_tree)\n",
    "            if verbose: print(\"  Adding new file {0} to current directory {1}\"\n",
    "                              .format(cwd.get_child('file-' + name).name, cwd.name))\n",
    "    if get_size:\n",
    "        _ = file_system.get_size()\n",
    "        \n",
    "    return file_system"
   ]
  },
  {
   "cell_type": "code",
   "execution_count": null,
   "id": "c6c203de-272f-4876-8ef6-39b10c4910a8",
   "metadata": {},
   "outputs": [],
   "source": [
    "file_system = build_tree(terminal, get_size=True, verbose=False)"
   ]
  },
  {
   "cell_type": "code",
   "execution_count": null,
   "id": "6537de7c-511f-436b-b73a-a593db7ace3c",
   "metadata": {},
   "outputs": [],
   "source": [
    "# file_system"
   ]
  },
  {
   "cell_type": "code",
   "execution_count": null,
   "id": "9126d2f0-888e-435d-b3ca-d44937362754",
   "metadata": {},
   "outputs": [],
   "source": [
    "file_system.get_size()"
   ]
  },
  {
   "cell_type": "code",
   "execution_count": null,
   "id": "881b5711-5a2f-432a-930d-c98b9b0f4b80",
   "metadata": {},
   "outputs": [],
   "source": [
    "all_dirs = file_system.get_all_dirs()"
   ]
  },
  {
   "cell_type": "markdown",
   "id": "20325bd6-822f-460b-8d88-9c569f751fc2",
   "metadata": {},
   "source": [
    "Part 1  - Find all small directories"
   ]
  },
  {
   "cell_type": "code",
   "execution_count": null,
   "id": "a2e1e950-5912-4418-80f2-e7e83677de60",
   "metadata": {},
   "outputs": [],
   "source": [
    "small_dirs = [directory for directory in all_dirs if directory[1]<=100000]"
   ]
  },
  {
   "cell_type": "code",
   "execution_count": null,
   "id": "377d6e7c-efaf-4b52-8dcd-ef2dd7ceba0a",
   "metadata": {},
   "outputs": [],
   "source": [
    "small_dirs_sum = sum([directory[1] for directory in small_dirs])"
   ]
  },
  {
   "cell_type": "code",
   "execution_count": null,
   "id": "dc4869d9-505e-43ea-ba0b-20c348650031",
   "metadata": {},
   "outputs": [],
   "source": [
    "TEST_ANSWER = 95437"
   ]
  },
  {
   "cell_type": "code",
   "execution_count": null,
   "id": "6172020b-5a97-4cb8-a1c7-226ed669901b",
   "metadata": {},
   "outputs": [],
   "source": [
    "if TEST:\n",
    "    assert small_dirs_sum == TEST_ANSWER\n",
    "else: \n",
    "    print(\"total memory in small directories is {0}\".format(small_dirs_sum))"
   ]
  },
  {
   "cell_type": "markdown",
   "id": "0b551112-7247-429b-a9a5-01342a7e4348",
   "metadata": {},
   "source": [
    "Part 2 - which directory to delete?"
   ]
  },
  {
   "cell_type": "code",
   "execution_count": null,
   "id": "5a901feb-a34c-4aee-8fa3-e5b5c09f6dad",
   "metadata": {},
   "outputs": [],
   "source": [
    "total_space = 70000000\n",
    "update_size = 30000000"
   ]
  },
  {
   "cell_type": "code",
   "execution_count": null,
   "id": "441bd190-3d14-4267-96b9-1537ab7a0dea",
   "metadata": {},
   "outputs": [],
   "source": [
    "available_space = total_space - file_system.get_size()\n",
    "space_needed  = update_size - available_space\n",
    "print(\"We have {0} available space, so we need to free up {1} more space\"\n",
    "      .format(available_space, space_needed))"
   ]
  },
  {
   "cell_type": "code",
   "execution_count": null,
   "id": "550f28c1-d412-473d-a86c-10e2568eb868",
   "metadata": {},
   "outputs": [],
   "source": [
    "candidate_dirs = [directory for directory in all_dirs if directory[1]>=space_needed]\n",
    "dir_to_delete = min(candidate_dirs, key = lambda t: t[1])"
   ]
  },
  {
   "cell_type": "code",
   "execution_count": null,
   "id": "4f32a704-f1d8-41fa-bd2d-0700f7157cac",
   "metadata": {},
   "outputs": [],
   "source": [
    "TEST_ANSWER = 24933642"
   ]
  },
  {
   "cell_type": "code",
   "execution_count": null,
   "id": "b5842899-1478-4511-ae2a-f10d36ad261a",
   "metadata": {},
   "outputs": [],
   "source": [
    "if TEST:\n",
    "    assert dir_to_delete[1] == TEST_ANSWER\n",
    "else: \n",
    "    print(\"directory to delete is {0}\".format(dir_to_delete))"
   ]
  }
 ],
 "metadata": {
  "kernelspec": {
   "display_name": "Python 3 (ipykernel)",
   "language": "python",
   "name": "python3"
  },
  "language_info": {
   "codemirror_mode": {
    "name": "ipython",
    "version": 3
   },
   "file_extension": ".py",
   "mimetype": "text/x-python",
   "name": "python",
   "nbconvert_exporter": "python",
   "pygments_lexer": "ipython3",
   "version": "3.10.6"
  }
 },
 "nbformat": 4,
 "nbformat_minor": 5
}
