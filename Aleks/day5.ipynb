{
 "cells": [
  {
   "cell_type": "code",
   "execution_count": null,
   "id": "03356dfb-13b4-42a0-8db0-9a4fcf271ff6",
   "metadata": {},
   "outputs": [],
   "source": [
    "import pandas as pd\n",
    "import re\n",
    "import io\n",
    "from copy import deepcopy"
   ]
  },
  {
   "cell_type": "code",
   "execution_count": null,
   "id": "988edba4-030c-4779-9bbe-0f5707c824dd",
   "metadata": {},
   "outputs": [],
   "source": [
    "TEST = False"
   ]
  },
  {
   "cell_type": "code",
   "execution_count": null,
   "id": "f4c0958d-d689-4d29-9faa-052becc9fcc7",
   "metadata": {},
   "outputs": [],
   "source": [
    "if TEST:\n",
    "    filename_a = \"data/input_5a_test\"\n",
    "    filename_b = \"data/input_5b_test\"\n",
    "    usecols = list(range(3))\n",
    "else:\n",
    "    filename_a = \"data/input_5a\"\n",
    "    filename_b = \"data/input_5b\"\n",
    "    usecols = list(range(9))"
   ]
  },
  {
   "cell_type": "markdown",
   "id": "f693dd83-3421-4ba4-bab6-ae31a22f0397",
   "metadata": {},
   "source": [
    "Read in container map from a utf-16 encoded text tile (saved via Excel) and parse into a DataFrame"
   ]
  },
  {
   "cell_type": "code",
   "execution_count": null,
   "id": "c419d4e4-f28e-4c3c-9654-32c2486631f1",
   "metadata": {},
   "outputs": [],
   "source": [
    "with open(filename_a, encoding='utf-16') as file:\n",
    "    input_str_a = file.read()"
   ]
  },
  {
   "cell_type": "code",
   "execution_count": null,
   "id": "630e1ae3-6c8b-4b70-8101-e397ec9e8668",
   "metadata": {},
   "outputs": [],
   "source": [
    "container_map = (pd\n",
    "                 .read_csv( # Parse input as csv\n",
    "                     io.StringIO( # Read string as input\n",
    "                         '\\n' # Join back into string with lines\n",
    "                         .join(\n",
    "                             [re.sub(r\"    \", \" .\", # deal with blank entries by replacing with .\n",
    "                                     re.sub(r\"^   \",\".\" ,line)) # If first column is blank replace with .\n",
    "                              for line in input_str_a.split('\\n')[:-1]] # Iteate lines (apart from last one)\n",
    "                         )\n",
    "                     ), \n",
    "                     sep=\" \", \n",
    "                     header=None, \n",
    "                     usecols=usecols\n",
    "                 )\n",
    "                )\n",
    "container_map.columns = list(map(lambda i: i+1, container_map.columns))\n",
    "container_map = container_map.replace(\".\",\"\")"
   ]
  },
  {
   "cell_type": "code",
   "execution_count": null,
   "id": "128e58bd-4b02-4e37-a27e-57d7530dc82c",
   "metadata": {},
   "outputs": [],
   "source": [
    "container_map"
   ]
  },
  {
   "cell_type": "markdown",
   "id": "5edbcad3-e7d5-4dab-ac06-469239a17b74",
   "metadata": {},
   "source": [
    "Read in list of instructions"
   ]
  },
  {
   "cell_type": "code",
   "execution_count": null,
   "id": "aaf5b689-7a88-48dc-96c1-66959437a85e",
   "metadata": {},
   "outputs": [],
   "source": [
    "with open(filename_b) as file:\n",
    "    input_str_b = file.read()"
   ]
  },
  {
   "cell_type": "code",
   "execution_count": null,
   "id": "be2ab9aa-0488-4347-af84-ecfdda50d9f2",
   "metadata": {},
   "outputs": [],
   "source": [
    "instructions_str = input_str_b.strip(\"\\n\").split(\"\\n\")"
   ]
  },
  {
   "cell_type": "code",
   "execution_count": null,
   "id": "8a58f95d-aae9-4944-8cee-e721ba6db8f0",
   "metadata": {},
   "outputs": [],
   "source": [
    "instructions = [re.findall(r'\\d+', instruction) for instruction in instructions_str]\n",
    "instructions[:4]"
   ]
  },
  {
   "cell_type": "markdown",
   "id": "f8145688-9274-48f8-be50-968d8ecf5469",
   "metadata": {},
   "source": [
    "Define Stack class"
   ]
  },
  {
   "cell_type": "code",
   "execution_count": null,
   "id": "53ba385a-256e-49b4-be01-57cb15846df3",
   "metadata": {},
   "outputs": [],
   "source": [
    "class Stack:\n",
    "    \n",
    "    content = ''\n",
    "    \n",
    "    def __init__(self, content):\n",
    "        self.content = content\n",
    "    \n",
    "    def __repr__(self):\n",
    "        return self.content\n",
    "    \n",
    "    def __str__(self):\n",
    "        return self.content\n",
    "    \n",
    "    def add(self,containers,crane_model=9000):\n",
    "        ''' Adds containers from list, in order based on crane model\n",
    "        \n",
    "        Args:\n",
    "            containers (str): list of containers to be added\n",
    "            crane_model (int): accepted values:[9000, 9001], defines whether\n",
    "                               containers are added in reverse order or not\n",
    "        '''\n",
    "        if len(containers)>0:\n",
    "            if crane_model==9000:\n",
    "                self.content += containers[::-1]\n",
    "            elif crane_model==9001:\n",
    "                self.content += containers\n",
    "            else:\n",
    "                raise ValueError(\"Unrecognised Crane Model: {0}\".format(crane_model))\n",
    "        else:\n",
    "            raise ValueError(\"Moving no containers!\")\n",
    "            \n",
    "    def remove(self,n):\n",
    "        '''Removes a number (n) of containers from the top of the stack'''\n",
    "        if (n>0) & (n<=len(self.content)):\n",
    "            containers = self.content[-n:]\n",
    "            self.content = self.content[:len(self.content)-n]\n",
    "            return containers\n",
    "        elif n<0:\n",
    "            raise ValueError(\"Moving no containers\")\n",
    "        elif n>len(self.content):\n",
    "            raise ValueError(\"Moving more containers than on stack!\")\n",
    "    "
   ]
  },
  {
   "cell_type": "markdown",
   "id": "3843c5f6-313e-4392-b80b-d1a3d6a66c88",
   "metadata": {},
   "source": [
    "Define helper functions which can convert between a container map in the form of a pandas DataFrame for visualisation and a list of stack object for executing crane instructions"
   ]
  },
  {
   "cell_type": "code",
   "execution_count": null,
   "id": "ef2a2e2c-f6d6-4824-8974-1398afdd0fe5",
   "metadata": {},
   "outputs": [],
   "source": [
    "def map_to_stacks(container_map):\n",
    "    '''Turn container map (DataFrame) into a list of stack objects'''\n",
    "    stacks = [Stack(re.sub(r'[\\W_]', \n",
    "                           '', \n",
    "                           ''\n",
    "                           .join(list(container_map[i].values)))\n",
    "                    .strip()\n",
    "                    [::-1]) \n",
    "              for i in range(1,max(usecols)+2)]\n",
    "    return stacks"
   ]
  },
  {
   "cell_type": "code",
   "execution_count": null,
   "id": "71dbf0b0-4202-46b3-a54c-36858d00bfa0",
   "metadata": {},
   "outputs": [],
   "source": [
    "def stacks_to_map(stacks):\n",
    "    '''Turn a list of stack objects into a container map'''\n",
    "    container_map = (pd.DataFrame([['[{0}]'.format(container) \n",
    "                                    for container in list(stack.content)] \n",
    "                                   for stack in stacks])\n",
    "                     .fillna('')\n",
    "                     .transpose()\n",
    "                     [::-1])\n",
    "    container_map.columns = list(map(lambda i: i+1, container_map.columns))\n",
    "    return container_map"
   ]
  },
  {
   "cell_type": "code",
   "execution_count": null,
   "id": "40d3689c-ab79-43e9-9016-e7ac14d91e59",
   "metadata": {},
   "outputs": [],
   "source": [
    "starting_stacks = map_to_stacks(container_map)"
   ]
  },
  {
   "cell_type": "code",
   "execution_count": null,
   "id": "ab2c9e69-eaa9-4d76-af68-6880f72fec10",
   "metadata": {},
   "outputs": [],
   "source": [
    "starting_stacks"
   ]
  },
  {
   "cell_type": "code",
   "execution_count": null,
   "id": "6d7dc29a-ae1a-418b-9a49-f4644d52a525",
   "metadata": {},
   "outputs": [],
   "source": [
    "starting_stacks[0]"
   ]
  },
  {
   "cell_type": "code",
   "execution_count": null,
   "id": "8b7d1f63-232d-464b-af94-d9581768e3ce",
   "metadata": {},
   "outputs": [],
   "source": [
    "type(starting_stacks[0])"
   ]
  },
  {
   "cell_type": "code",
   "execution_count": null,
   "id": "c4d7ae16-1dad-403b-94bd-cce8fb6473a1",
   "metadata": {},
   "outputs": [],
   "source": [
    "stacks_to_map(starting_stacks)"
   ]
  },
  {
   "cell_type": "markdown",
   "id": "55491e01-9721-4016-af8a-2c0e4f163922",
   "metadata": {},
   "source": [
    "Part 1 - Crane model 9000"
   ]
  },
  {
   "cell_type": "code",
   "execution_count": null,
   "id": "fc8ab1c3-523d-44fa-80e6-27105cf6a1ad",
   "metadata": {},
   "outputs": [],
   "source": [
    "def one_move(instruction, stacks, verbose=False, crane_model=9000):\n",
    "    '''Executes one crane instruction on a list of stacks\n",
    "    Args:\n",
    "        instruction (list(str)): List of numbers (as str) in the instruction\n",
    "        stacks (list(Stack)): List of container stacks available\n",
    "        verbose (Boolean): whether to print a map after each instruction\n",
    "        crane_model (int): accepted values:[9000,9001], defines whether containers\n",
    "                       are moved in reverse order or not.\n",
    "                       \n",
    "    Returns:\n",
    "        list(Stacks): list of stacks after move has been executed\n",
    "    '''\n",
    "    n_containers, source , destination = list(map(int, instruction))\n",
    "    if verbose: print(\"\\nMove {0} from {1} to {2}\\n\".format(n_containers, source, destination))\n",
    "    stacks[destination-1].add(stacks[source-1].remove(n_containers), crane_model=crane_model)\n",
    "    if verbose: print(stacks_to_map(stacks))\n",
    "    return stacks"
   ]
  },
  {
   "cell_type": "code",
   "execution_count": null,
   "id": "8725c556-7902-453a-8368-e81eacdd213f",
   "metadata": {},
   "outputs": [],
   "source": [
    "stacks = deepcopy(starting_stacks)\n",
    "print(stacks_to_map(stacks))\n",
    "for instruction in instructions:\n",
    "    stacks = one_move(instruction, stacks)"
   ]
  },
  {
   "cell_type": "code",
   "execution_count": null,
   "id": "b1a88051-0446-435f-9b41-6d2a598264d8",
   "metadata": {},
   "outputs": [],
   "source": [
    "print(stacks_to_map(stacks))"
   ]
  },
  {
   "cell_type": "code",
   "execution_count": null,
   "id": "da3cd6fe-257f-4752-9f61-3570c0182a18",
   "metadata": {},
   "outputs": [],
   "source": [
    "print(stacks)"
   ]
  },
  {
   "cell_type": "code",
   "execution_count": null,
   "id": "e7f05e83-c001-4012-bc16-2e3a62c277be",
   "metadata": {},
   "outputs": [],
   "source": [
    "top_containers = ''\n",
    "for stack in stacks:\n",
    "    try:\n",
    "        top_containers += stack.content[-1]\n",
    "    except IndexError:\n",
    "        continue"
   ]
  },
  {
   "cell_type": "code",
   "execution_count": null,
   "id": "7422334d-797e-44e5-9f51-62b6b73125c9",
   "metadata": {},
   "outputs": [],
   "source": [
    "TEST_ANSWER = 'CMZ'"
   ]
  },
  {
   "cell_type": "code",
   "execution_count": null,
   "id": "2ef535b7-b5f8-40b3-a8dc-f4f6210abe6e",
   "metadata": {},
   "outputs": [],
   "source": [
    "if TEST:\n",
    "    assert top_containers == TEST_ANSWER\n",
    "else: \n",
    "    print(\"Top containers are {0}\".format(top_containers))"
   ]
  },
  {
   "cell_type": "markdown",
   "id": "a854fc69-6c42-4418-aa88-b8f9b0a5231c",
   "metadata": {},
   "source": [
    "Part 2 - Crane model 9001"
   ]
  },
  {
   "cell_type": "code",
   "execution_count": null,
   "id": "1a450573-081c-4914-874a-e1f40d3156e7",
   "metadata": {},
   "outputs": [],
   "source": [
    "starting_stacks"
   ]
  },
  {
   "cell_type": "code",
   "execution_count": null,
   "id": "e1dbe54b-07d8-4735-855e-65c216a06e82",
   "metadata": {},
   "outputs": [],
   "source": [
    "stacks = deepcopy(starting_stacks)\n",
    "print(stacks_to_map(stacks))\n",
    "for instruction in instructions:\n",
    "    stacks = one_move(instruction, stacks, crane_model=9001)"
   ]
  },
  {
   "cell_type": "code",
   "execution_count": null,
   "id": "fbbc26a6-1332-4a40-b2b0-7e0d8e6b2ed6",
   "metadata": {},
   "outputs": [],
   "source": [
    "print(stacks_to_map(stacks))"
   ]
  },
  {
   "cell_type": "code",
   "execution_count": null,
   "id": "2241423f-d3c9-419c-b148-8106e67c872f",
   "metadata": {},
   "outputs": [],
   "source": [
    "top_containers = ''\n",
    "for stack in stacks:\n",
    "    try:\n",
    "        top_containers += stack.content[-1]\n",
    "    except IndexError:\n",
    "        continue"
   ]
  },
  {
   "cell_type": "code",
   "execution_count": null,
   "id": "95347f88-f5f8-49a7-90c2-d17e38776d39",
   "metadata": {},
   "outputs": [],
   "source": [
    "TEST_ANSWER = 'MCD'"
   ]
  },
  {
   "cell_type": "code",
   "execution_count": null,
   "id": "cc46b7df-d778-4c9a-a250-1077f8fa2256",
   "metadata": {},
   "outputs": [],
   "source": [
    "if TEST:\n",
    "    assert top_containers == TEST_ANSWER\n",
    "else: \n",
    "    print(\"Top containers are {0}\".format(top_containers))"
   ]
  },
  {
   "cell_type": "code",
   "execution_count": null,
   "id": "a6e97add-a6de-4747-849d-79c7ddfc7984",
   "metadata": {},
   "outputs": [],
   "source": []
  }
 ],
 "metadata": {
  "kernelspec": {
   "display_name": "Python 3 (ipykernel)",
   "language": "python",
   "name": "python3"
  },
  "language_info": {
   "codemirror_mode": {
    "name": "ipython",
    "version": 3
   },
   "file_extension": ".py",
   "mimetype": "text/x-python",
   "name": "python",
   "nbconvert_exporter": "python",
   "pygments_lexer": "ipython3",
   "version": "3.10.6"
  }
 },
 "nbformat": 4,
 "nbformat_minor": 5
}
