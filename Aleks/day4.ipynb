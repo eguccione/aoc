{
 "cells": [
  {
   "cell_type": "code",
   "execution_count": null,
   "id": "75128b69-37bc-4179-ae04-dbc17f293706",
   "metadata": {},
   "outputs": [],
   "source": [
    "TEST = False"
   ]
  },
  {
   "cell_type": "code",
   "execution_count": null,
   "id": "39b8e169-9c3d-4f40-aa41-310704da8c4b",
   "metadata": {},
   "outputs": [],
   "source": [
    "if TEST:\n",
    "    filename = \"data/input_4_test\"\n",
    "else:\n",
    "    filename = \"data/input_4\""
   ]
  },
  {
   "cell_type": "code",
   "execution_count": null,
   "id": "9266db4b-f683-45eb-a774-bfd912f2af59",
   "metadata": {},
   "outputs": [],
   "source": [
    "with open(filename) as file:\n",
    "    input_str = file.read()"
   ]
  },
  {
   "cell_type": "code",
   "execution_count": null,
   "id": "e0a09de3-50be-482b-aa7e-7b81afdabed3",
   "metadata": {},
   "outputs": [],
   "source": [
    "pair_ass = input_str.strip(\"\\n\").split(\"\\n\")"
   ]
  },
  {
   "cell_type": "code",
   "execution_count": null,
   "id": "60b4bdc3-a440-4b36-b624-9e3cb12bfc43",
   "metadata": {},
   "outputs": [],
   "source": [
    "pair_ass[:6]"
   ]
  },
  {
   "cell_type": "code",
   "execution_count": null,
   "id": "f6566576-1dd9-449d-8568-e6a5819cca37",
   "metadata": {},
   "outputs": [],
   "source": [
    "pair_ass2 = [ass.split(',') for ass in pair_ass]"
   ]
  },
  {
   "cell_type": "code",
   "execution_count": null,
   "id": "b98e41b0-3892-40da-9548-a77328de4145",
   "metadata": {},
   "outputs": [],
   "source": [
    "pair_ass2[:6]"
   ]
  },
  {
   "cell_type": "code",
   "execution_count": null,
   "id": "c2034781-e3b6-4631-b0f0-aa27be49c688",
   "metadata": {},
   "outputs": [],
   "source": [
    "pair_ass3 = [[ass.split('-') for ass in pair] for pair in pair_ass2]\n",
    "pair_ass_parsed = [[[int(end) for end in ass] for ass in pair] for pair in pair_ass3]"
   ]
  },
  {
   "cell_type": "code",
   "execution_count": null,
   "id": "4c52cc06-dbef-437a-9e1e-b32e0d830071",
   "metadata": {},
   "outputs": [],
   "source": [
    "pair_ass_parsed[:6]"
   ]
  },
  {
   "cell_type": "markdown",
   "id": "36b59e51-6c58-409c-b98d-39f073df7b3a",
   "metadata": {},
   "source": [
    "Part 1 - find number of pairs where one assignment is contaioned within the other"
   ]
  },
  {
   "cell_type": "code",
   "execution_count": null,
   "id": "7eaa9598-aea6-4d69-ae1e-9677b2af8172",
   "metadata": {},
   "outputs": [],
   "source": [
    "TEST_ANSWER = 2"
   ]
  },
  {
   "cell_type": "code",
   "execution_count": null,
   "id": "911c8497-b50a-4a02-b8af-e7398c084dc1",
   "metadata": {},
   "outputs": [],
   "source": [
    "pair_contained = [1 if (\n",
    "                  ((pair[0][0]>=pair[1][0]) & (pair[0][1]<=pair[1][1])) | # Area 1 contained in Area 2\n",
    "                  ((pair[0][0]<=pair[1][0]) & (pair[0][1]>=pair[1][1])))  # Area 2 contained in Area 1\n",
    "                  else 0\n",
    "                  for pair in pair_ass_parsed]"
   ]
  },
  {
   "cell_type": "code",
   "execution_count": null,
   "id": "40867768-d5ee-47c7-a3a8-cbb709402866",
   "metadata": {},
   "outputs": [],
   "source": [
    "num_container_pairs = sum(pair_contained)"
   ]
  },
  {
   "cell_type": "code",
   "execution_count": null,
   "id": "027f2865-6c16-41e3-9ee3-87b96ba9d786",
   "metadata": {},
   "outputs": [],
   "source": [
    "if TEST:\n",
    "    assert num_container_pairs == TEST_ANSWER\n",
    "else: \n",
    "    print(\"Number of assignments completely contained in the other is {0}\".format(num_container_pairs))"
   ]
  },
  {
   "cell_type": "markdown",
   "id": "c66588f6-10d9-48db-9836-b65004e0dddc",
   "metadata": {},
   "source": [
    "Part 2 - Number of overlapping pairs"
   ]
  },
  {
   "cell_type": "code",
   "execution_count": null,
   "id": "99a3b142-40fa-4af7-b871-f97e81160f4f",
   "metadata": {},
   "outputs": [],
   "source": [
    "TEST_ANSWER = 4"
   ]
  },
  {
   "cell_type": "code",
   "execution_count": null,
   "id": "4e76aa5e-22cd-43f1-a885-23593aa70912",
   "metadata": {},
   "outputs": [],
   "source": [
    "pair_overlap = [0 if (\n",
    "                  (pair[0][1]<pair[1][0]) | # Area 1 below Area 2\n",
    "                  (pair[0][0]>pair[1][1]))  # Area 2 below Area 1\n",
    "                  else 1\n",
    "                  for pair in pair_ass_parsed]"
   ]
  },
  {
   "cell_type": "code",
   "execution_count": null,
   "id": "f2b96e7a-aa1f-4a95-a716-2ca7ee8850e1",
   "metadata": {},
   "outputs": [],
   "source": [
    "pair_overlap[:6]"
   ]
  },
  {
   "cell_type": "code",
   "execution_count": null,
   "id": "59a57c77-26bb-4c2b-9702-809fb0489a75",
   "metadata": {},
   "outputs": [],
   "source": [
    "num_overlap_pairs = sum(pair_overlap)"
   ]
  },
  {
   "cell_type": "code",
   "execution_count": null,
   "id": "9da6c317-3399-47d9-848d-8f7ec5e3c662",
   "metadata": {},
   "outputs": [],
   "source": [
    "if TEST:\n",
    "    assert num_overlap_pairs == TEST_ANSWER\n",
    "else: \n",
    "    print(\"Number of assignments overlapping is {0}\".format(num_overlap_pairs))"
   ]
  },
  {
   "cell_type": "code",
   "execution_count": null,
   "id": "1afb0a8b-39ab-421c-8e90-4145f3d0c651",
   "metadata": {},
   "outputs": [],
   "source": []
  }
 ],
 "metadata": {
  "kernelspec": {
   "display_name": "Python 3 (ipykernel)",
   "language": "python",
   "name": "python3"
  },
  "language_info": {
   "codemirror_mode": {
    "name": "ipython",
    "version": 3
   },
   "file_extension": ".py",
   "mimetype": "text/x-python",
   "name": "python",
   "nbconvert_exporter": "python",
   "pygments_lexer": "ipython3",
   "version": "3.10.6"
  }
 },
 "nbformat": 4,
 "nbformat_minor": 5
}
