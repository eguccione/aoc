{
 "cells": [
  {
   "cell_type": "code",
   "execution_count": null,
   "id": "b3f0d18c-85d0-4992-950b-e2897d8e396e",
   "metadata": {},
   "outputs": [],
   "source": [
    "TEST = True"
   ]
  },
  {
   "cell_type": "code",
   "execution_count": null,
   "id": "131d3dc7-20f6-4c90-a7a1-ef4d52a28098",
   "metadata": {},
   "outputs": [],
   "source": [
    "if TEST:\n",
    "    filename = \"data/input_6_test\"\n",
    "    filename_answers = \"data/input_6_test_answers\"\n",
    "    filename_answers_2 = \"data/input_6_test_answers_2\"\n",
    "else:\n",
    "    filename = \"data/input_6\""
   ]
  },
  {
   "cell_type": "code",
   "execution_count": null,
   "id": "70367e36-afd1-41d0-add6-9a233b7dd718",
   "metadata": {},
   "outputs": [],
   "source": [
    "with open(filename) as file:\n",
    "    input_str = file.read()"
   ]
  },
  {
   "cell_type": "code",
   "execution_count": null,
   "id": "50d7c398-4eba-4946-9c36-80041fc96879",
   "metadata": {},
   "outputs": [],
   "source": [
    "buffers = input_str.strip(\"\\n\").split(\"\\n\")"
   ]
  },
  {
   "cell_type": "code",
   "execution_count": null,
   "id": "aa0d89fe-3d9c-419a-a3f9-c635b183f31c",
   "metadata": {},
   "outputs": [],
   "source": [
    "if TEST:\n",
    "    with open(filename_answers) as file:\n",
    "        input_str_answers = file.read()\n",
    "    TEST_ANSWERS = list(map(int, input_str_answers.strip(\"\\n\").split(\"\\n\")))"
   ]
  },
  {
   "cell_type": "code",
   "execution_count": null,
   "id": "b289bebb-a88d-4b01-9683-0652f6b645f6",
   "metadata": {},
   "outputs": [],
   "source": [
    "buffer = buffers[0]\n",
    "buffer[:10]"
   ]
  },
  {
   "cell_type": "markdown",
   "id": "f756fe74-47a7-4d25-a361-43cafe86d8ee",
   "metadata": {},
   "source": [
    "Part 1 - start packets"
   ]
  },
  {
   "cell_type": "code",
   "execution_count": null,
   "id": "abafcf73-070a-4d5b-92e9-7c758ec4cc0c",
   "metadata": {},
   "outputs": [],
   "source": [
    "window_size = 4"
   ]
  },
  {
   "cell_type": "code",
   "execution_count": null,
   "id": "4fa33864-633d-47ab-a9a8-a65aacbb8415",
   "metadata": {},
   "outputs": [],
   "source": [
    "def find_start_marker(buffer, window_size=window_size):\n",
    "    for i in range(len(buffer)):\n",
    "        window = buffer[i:i+window_size]\n",
    "        if len(set(window))==window_size:\n",
    "            break\n",
    "    num_characters = i + window_size\n",
    "    return num_characters"
   ]
  },
  {
   "cell_type": "code",
   "execution_count": null,
   "id": "3d5fba0a-2c88-4b0a-bec3-5e373b0978af",
   "metadata": {},
   "outputs": [],
   "source": [
    "if TEST:\n",
    "    for i in range(len(buffers)):\n",
    "        assert find_start_marker(buffers[i], window_size=window_size) == TEST_ANSWERS[i]\n",
    "else:\n",
    "    print(\"Needed to process {0} characters to find start packet\".format(find_start_marker(buffer)))"
   ]
  },
  {
   "cell_type": "markdown",
   "id": "ed4f90dc-24d4-4ffa-9f34-f490150e624d",
   "metadata": {},
   "source": [
    "Part 2 - message start packets"
   ]
  },
  {
   "cell_type": "code",
   "execution_count": null,
   "id": "3e0937f3-0510-4692-9734-0c5cab73a261",
   "metadata": {},
   "outputs": [],
   "source": [
    "if TEST:\n",
    "    with open(filename_answers_2) as file:\n",
    "        input_str_answers_2 = file.read()\n",
    "    TEST_ANSWERS_2 = list(map(int, input_str_answers_2.strip(\"\\n\").split(\"\\n\")))"
   ]
  },
  {
   "cell_type": "code",
   "execution_count": null,
   "id": "23ed15eb-a1b5-4ae4-af7d-696c48405b86",
   "metadata": {},
   "outputs": [],
   "source": [
    "if TEST:\n",
    "    for i in range(len(buffers)):\n",
    "        assert find_start_marker(buffers[i], window_size=14) == TEST_ANSWERS_2[i]\n",
    "else:\n",
    "    print(\"Needed to process {0} characters to find start packet\".format(find_start_marker(buffer, window_size=14)))"
   ]
  }
 ],
 "metadata": {
  "kernelspec": {
   "display_name": "Python 3 (ipykernel)",
   "language": "python",
   "name": "python3"
  },
  "language_info": {
   "codemirror_mode": {
    "name": "ipython",
    "version": 3
   },
   "file_extension": ".py",
   "mimetype": "text/x-python",
   "name": "python",
   "nbconvert_exporter": "python",
   "pygments_lexer": "ipython3",
   "version": "3.10.6"
  }
 },
 "nbformat": 4,
 "nbformat_minor": 5
}
