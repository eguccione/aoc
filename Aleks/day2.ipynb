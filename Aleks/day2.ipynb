{
 "cells": [
  {
   "cell_type": "code",
   "execution_count": null,
   "id": "64525482-e5e4-4cc9-8c53-c3d51280d20d",
   "metadata": {},
   "outputs": [],
   "source": [
    "import pandas as pd"
   ]
  },
  {
   "cell_type": "code",
   "execution_count": null,
   "id": "1ea512be-b188-4a67-9591-bf870f7b67b0",
   "metadata": {},
   "outputs": [],
   "source": [
    "TEST = False"
   ]
  },
  {
   "cell_type": "code",
   "execution_count": null,
   "id": "86feb39e-fd4c-42e4-b764-c6b5070a14e7",
   "metadata": {},
   "outputs": [],
   "source": [
    "if TEST:\n",
    "    filename = \"data/input_2_test\"\n",
    "else:\n",
    "    filename = \"data/input_2\""
   ]
  },
  {
   "cell_type": "code",
   "execution_count": null,
   "id": "b7a3d3ea-d229-4990-b886-a06a7d7f5449",
   "metadata": {},
   "outputs": [],
   "source": [
    "input_df = pd.read_csv(filename, sep=\" \", header=None)"
   ]
  },
  {
   "cell_type": "code",
   "execution_count": null,
   "id": "67de6c0c-ace7-4fdc-a1de-c6e68065a986",
   "metadata": {},
   "outputs": [],
   "source": [
    "input_df.head()"
   ]
  },
  {
   "cell_type": "markdown",
   "id": "787281ff-8168-4110-b553-4b2b0a297ed4",
   "metadata": {},
   "source": [
    "Part 1 - get total score with no info from elf"
   ]
  },
  {
   "cell_type": "code",
   "execution_count": null,
   "id": "d9a8eecb-f5eb-4041-ab9b-01a371ac99b6",
   "metadata": {},
   "outputs": [],
   "source": [
    "TEST_ANSWER = 15"
   ]
  },
  {
   "cell_type": "code",
   "execution_count": null,
   "id": "09ec76b9-1035-42de-946e-a3574b3222b7",
   "metadata": {},
   "outputs": [],
   "source": [
    "move_ABC = {\"A\":\"R\", \"B\":\"P\", \"C\":\"S\"}\n",
    "move_XYZ = {\"X\":\"R\", \"Y\":\"P\", \"Z\":\"S\"}\n",
    "score_move = {\"R\":1, \"P\":2, \"S\":3}\n",
    "score_outcome  = {\"W\":6, \"D\":3, \"L\":0}"
   ]
  },
  {
   "cell_type": "code",
   "execution_count": null,
   "id": "3eef8b45-77a6-4061-be76-714eb209aa63",
   "metadata": {},
   "outputs": [],
   "source": [
    "play_outcome = pd.DataFrame([[\"D\", \"L\", \"W\"],\n",
    "                             [\"W\", \"D\", \"L\"],\n",
    "                             [\"L\", \"W\", \"D\"]],\n",
    "                            index=[\"R\", \"P\", \"S\"], \n",
    "                            columns=[\"R\", \"P\", \"S\"])"
   ]
  },
  {
   "cell_type": "code",
   "execution_count": null,
   "id": "1802b841-7ff1-4278-adfa-4397e7e62863",
   "metadata": {},
   "outputs": [],
   "source": [
    "play_outcome"
   ]
  },
  {
   "cell_type": "code",
   "execution_count": null,
   "id": "4ae5ff13-500d-4ccb-bf07-bdd8c0143641",
   "metadata": {},
   "outputs": [],
   "source": [
    "guide = input_df.rename(columns={0:\"elf_move_enc\", 1:\"my_move_enc\"})"
   ]
  },
  {
   "cell_type": "code",
   "execution_count": null,
   "id": "9ca56412-7a74-4377-8adf-1c3fb063346e",
   "metadata": {},
   "outputs": [],
   "source": [
    "guide.head()"
   ]
  },
  {
   "cell_type": "code",
   "execution_count": null,
   "id": "4afe136d-29bf-4e73-8573-61a121fe26fc",
   "metadata": {},
   "outputs": [],
   "source": [
    "guide['my_move'] = guide['my_move_enc'].map(move_XYZ)\n",
    "guide['elf_move'] = guide['elf_move_enc'].map(move_ABC)\n",
    "\n",
    "guide['my_move_score'] = guide['my_move'].map(score_move)\n",
    "guide['elf_move_score'] = guide['elf_move'].map(score_move)\n",
    "\n",
    "guide['my_outcome'] = guide.apply(lambda r: play_outcome.loc[r['my_move'],r['elf_move']], axis=1)\n",
    "guide['my_outcome_score'] = guide['my_outcome'].map(score_outcome)\n",
    "\n",
    "guide['my_score'] = guide['my_move_score']+guide['my_outcome_score']"
   ]
  },
  {
   "cell_type": "code",
   "execution_count": null,
   "id": "5bd4ebba-11e0-4938-a4f7-91d72bcdb5b2",
   "metadata": {},
   "outputs": [],
   "source": [
    "guide.head()"
   ]
  },
  {
   "cell_type": "code",
   "execution_count": null,
   "id": "d8d4c139-733a-43b9-804b-88720498a677",
   "metadata": {},
   "outputs": [],
   "source": [
    "total_score = guide['my_score'].sum()"
   ]
  },
  {
   "cell_type": "code",
   "execution_count": null,
   "id": "0f72b79b-0808-4146-be8f-7bb45c6379c2",
   "metadata": {},
   "outputs": [],
   "source": [
    "if TEST:\n",
    "    assert total_score == TEST_ANSWER\n",
    "else: \n",
    "    print(\"My total score is {0}\".format(total_score))"
   ]
  },
  {
   "cell_type": "markdown",
   "id": "c2263e9b-7a88-45ed-b66d-d5274a240074",
   "metadata": {},
   "source": [
    "Part 2 - Get total score with full info from elf"
   ]
  },
  {
   "cell_type": "code",
   "execution_count": null,
   "id": "b09e93bd-3050-4aa7-af25-cad0cfae9277",
   "metadata": {},
   "outputs": [],
   "source": [
    "TEST_ANSWER = 12"
   ]
  },
  {
   "cell_type": "code",
   "execution_count": null,
   "id": "6cb1e00a-1f5a-4dd4-b61d-512144971faf",
   "metadata": {},
   "outputs": [],
   "source": [
    "# move_ABC = {\"A\":\"R\", \"B\":\"P\", \"C\":\"S\"}\n",
    "outcome_XYZ = {\"X\":\"L\", \"Y\":\"D\", \"Z\":\"W\"}\n",
    "score_move = {\"R\":1, \"P\":2, \"S\":3}\n",
    "score_outcome  = {\"W\":6, \"D\":3, \"L\":0}"
   ]
  },
  {
   "cell_type": "code",
   "execution_count": null,
   "id": "ea11537d-3381-4c6c-aec9-1a81bb0d8379",
   "metadata": {},
   "outputs": [],
   "source": [
    "guide2 = input_df.rename(columns={0:\"elf_move_enc\", 1:\"my_outcome_enc\"})"
   ]
  },
  {
   "cell_type": "code",
   "execution_count": null,
   "id": "7cb53a76-ff5e-46a8-83f8-51253625f549",
   "metadata": {},
   "outputs": [],
   "source": [
    "guide2.head()"
   ]
  },
  {
   "cell_type": "code",
   "execution_count": null,
   "id": "c3c112fd-cc0b-4e13-a003-b0523dc7bdee",
   "metadata": {},
   "outputs": [],
   "source": [
    "guide2['elf_move'] = guide2['elf_move_enc'].map(move_ABC)\n",
    "\n",
    "guide2['my_outcome'] = guide2['my_outcome_enc'].map(outcome_XYZ)\n",
    "\n",
    "guide2['my_move'] = guide2.apply(lambda r: play_outcome[play_outcome[r['elf_move']]==r['my_outcome']].index[0], axis=1)\n",
    "\n",
    "guide2['my_move_score'] = guide2['my_move'].map(score_move)\n",
    "guide2['my_outcome_score'] = guide2['my_outcome'].map(score_outcome)\n",
    "guide2['my_score'] = guide2['my_move_score']+guide2['my_outcome_score']"
   ]
  },
  {
   "cell_type": "code",
   "execution_count": null,
   "id": "48c567c7-eb39-44cf-a8c1-3b468c4254ce",
   "metadata": {},
   "outputs": [],
   "source": [
    "guide2.head()"
   ]
  },
  {
   "cell_type": "code",
   "execution_count": null,
   "id": "cb5ee656-35ec-43d0-bc05-0d592b3facbd",
   "metadata": {},
   "outputs": [],
   "source": [
    "total_score = guide2['my_score'].sum()"
   ]
  },
  {
   "cell_type": "code",
   "execution_count": null,
   "id": "de91de22-54cd-4efa-9e11-f26c3509b8ec",
   "metadata": {},
   "outputs": [],
   "source": [
    "if TEST:\n",
    "    assert total_score == TEST_ANSWER\n",
    "else: \n",
    "    print(\"My total score is {0}\".format(total_score))"
   ]
  },
  {
   "cell_type": "code",
   "execution_count": null,
   "id": "d0eec06e-e7d5-440e-91bb-b90be93c9887",
   "metadata": {},
   "outputs": [],
   "source": []
  }
 ],
 "metadata": {
  "kernelspec": {
   "display_name": "Python 3 (ipykernel)",
   "language": "python",
   "name": "python3"
  },
  "language_info": {
   "codemirror_mode": {
    "name": "ipython",
    "version": 3
   },
   "file_extension": ".py",
   "mimetype": "text/x-python",
   "name": "python",
   "nbconvert_exporter": "python",
   "pygments_lexer": "ipython3",
   "version": "3.10.6"
  }
 },
 "nbformat": 4,
 "nbformat_minor": 5
}
