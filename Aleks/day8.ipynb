{
 "cells": [
  {
   "cell_type": "code",
   "execution_count": null,
   "id": "f95de08f-d472-400f-abae-78f3fa995528",
   "metadata": {},
   "outputs": [],
   "source": [
    "import pandas as pd\n",
    "import numpy as np"
   ]
  },
  {
   "cell_type": "code",
   "execution_count": null,
   "id": "ae561709-f864-45a0-899b-0d798451285b",
   "metadata": {},
   "outputs": [],
   "source": [
    "TEST = False"
   ]
  },
  {
   "cell_type": "code",
   "execution_count": null,
   "id": "a6fde054-3b3e-4579-99e0-7b253c566332",
   "metadata": {},
   "outputs": [],
   "source": [
    "if TEST:\n",
    "    filename = \"data/input_8_test\"\n",
    "else:\n",
    "    filename = \"data/input_8\""
   ]
  },
  {
   "cell_type": "code",
   "execution_count": null,
   "id": "92c468b9-adf3-4d36-9a59-2cc794c74731",
   "metadata": {},
   "outputs": [],
   "source": [
    "with open(filename) as file:\n",
    "    input_str = file.read()"
   ]
  },
  {
   "cell_type": "code",
   "execution_count": null,
   "id": "2e1c8ddd-05d5-4be7-92ba-484cfd899f3f",
   "metadata": {},
   "outputs": [],
   "source": [
    "chars = [list(map(int,list(line))) for line in input_str.strip(\"\\n\").split(\"\\n\")]"
   ]
  },
  {
   "cell_type": "code",
   "execution_count": null,
   "id": "f60ee680-ef65-4b91-b931-44b3a3722fd1",
   "metadata": {},
   "outputs": [],
   "source": [
    "input_df  = pd.DataFrame(chars)"
   ]
  },
  {
   "cell_type": "code",
   "execution_count": null,
   "id": "565f638c-d4d8-4c1f-8966-7216d96195e7",
   "metadata": {},
   "outputs": [],
   "source": [
    "input_df.head()"
   ]
  },
  {
   "cell_type": "code",
   "execution_count": null,
   "id": "008ee9f3-81e8-493f-9da0-ce2850593220",
   "metadata": {},
   "outputs": [],
   "source": [
    "def check_tree(i,j, verbose=False):\n",
    "    tree = input_df.iloc[i,j]\n",
    "    if verbose : print(\"({0},{1}): {2}\".format(i,j, input_df.iloc[i,j]))\n",
    "          \n",
    "    # look up\n",
    "    if verbose : print(\"  look  up:{0}\".format(list(range(i-1,-1,-1))))\n",
    "    ii = next((ii for ii in range(i-1,-1,-1) if tree<=input_df.iloc[ii,j]), -1)\n",
    "    v_up = (ii<0)\n",
    "    s_up = i-max(ii,0)\n",
    "    if verbose : print(\"    ii={0}, visible={1}, score={2}\".format(ii, v_up, s_up))\n",
    "\n",
    "    # look down\n",
    "    if verbose : print(\"  look  down:{0}\".format(list(range(i+1,input_df.shape[0]))))\n",
    "    ii = next((ii for ii in range(i+1,input_df.shape[0]) if tree<=input_df.iloc[ii,j]), input_df.shape[0])\n",
    "    v_down = (ii>input_df.shape[0]-1)\n",
    "    s_down = min(ii,input_df.shape[0]-1)-i\n",
    "    if verbose : print(\"    ii={0}, visible={1}, score={2}\".format(ii, v_down, s_down))\n",
    "\n",
    "    # look right\n",
    "    if verbose : print(\"  look  right:{0}\".format(list(range(j+1,input_df.shape[1]))))\n",
    "    jj = next((jj for jj in range(j+1,input_df.shape[1]) if tree<=input_df.iloc[i,jj]), input_df.shape[1])\n",
    "    v_right = (jj>input_df.shape[1]-1)\n",
    "    s_right = min(jj,input_df.shape[1]-1)-j\n",
    "    if verbose : print(\"    jj={0}, visible={1}, score={2}\".format(jj, v_right, s_right))\n",
    "\n",
    "    # look left\n",
    "    if verbose : print(\"  look  left:{0}\".format(list(range(j-1,-1,-1))))\n",
    "    jj = next((jj for jj in range(j-1,-1,-1) if tree<=input_df.iloc[i,jj]), -1)\n",
    "    v_left = (jj<0)\n",
    "    s_left = j-max(jj,0)\n",
    "    if verbose : print(\"    jj={0}, visible={1}, score={2}\".format(jj, v_left, s_left))\n",
    "          \n",
    "    visible = any([v_up, v_down, v_left, v_right])\n",
    "    score = s_up * s_down * s_left * s_right\n",
    "    if verbose : print(\"  Visible = {0}, Score = {1}\".format(visible, score))\n",
    "    \n",
    "    return visible, score"
   ]
  },
  {
   "cell_type": "code",
   "execution_count": null,
   "id": "64038e83-a41e-4a17-a42e-c3d878e83414",
   "metadata": {},
   "outputs": [],
   "source": [
    "visible_df = pd.DataFrame(index=range(input_df.shape[0]), columns=range(input_df.shape[1]))\n",
    "score_df  = pd.DataFrame(index=range(input_df.shape[0]), columns=range(input_df.shape[1]))"
   ]
  },
  {
   "cell_type": "code",
   "execution_count": null,
   "id": "c09f1c71-8650-4e55-8977-f6f333580363",
   "metadata": {},
   "outputs": [],
   "source": [
    "for i,j in [(i,j) for i in range(input_df.shape[0]) for j in range(input_df.shape[1])]: \n",
    "    visible, score = check_tree(i,j,verbose=False)\n",
    "    visible_df.loc[i,j] = visible\n",
    "    score_df.loc[i,j] = score   "
   ]
  },
  {
   "cell_type": "code",
   "execution_count": null,
   "id": "bedbf251-9422-4479-a77e-dd4ad8deef0d",
   "metadata": {},
   "outputs": [],
   "source": [
    "visible_df.iloc[0,:] = True\n",
    "visible_df.iloc[-1,:] = True\n",
    "visible_df.iloc[:,0] = True\n",
    "visible_df.iloc[:,-1] = True"
   ]
  },
  {
   "cell_type": "code",
   "execution_count": null,
   "id": "c80ecb28-698f-4e6b-bb57-4bae64c03425",
   "metadata": {},
   "outputs": [],
   "source": [
    "visible_df.head()"
   ]
  },
  {
   "cell_type": "code",
   "execution_count": null,
   "id": "8b06d0f6-8879-4e8d-93f6-ddc79dd23374",
   "metadata": {},
   "outputs": [],
   "source": [
    "num_visible_trees = visible_df.sum().sum()"
   ]
  },
  {
   "cell_type": "code",
   "execution_count": null,
   "id": "3b8a8373-6842-41f5-b042-7cfdc1ecde13",
   "metadata": {},
   "outputs": [],
   "source": [
    "TEST_ANSWER = 21"
   ]
  },
  {
   "cell_type": "code",
   "execution_count": null,
   "id": "0e7bdf99-7fcb-432b-b878-75156cb6c657",
   "metadata": {},
   "outputs": [],
   "source": [
    "if TEST:\n",
    "    assert num_visible_trees == TEST_ANSWER\n",
    "else: \n",
    "    print(\"There are {0} trees visible from outside the grid\".format(num_visible_trees))"
   ]
  },
  {
   "cell_type": "markdown",
   "id": "104e92f2-d6c1-4c96-837c-6ae272a76c9c",
   "metadata": {},
   "source": [
    "Part 2 - Scenic Score"
   ]
  },
  {
   "cell_type": "code",
   "execution_count": null,
   "id": "ebb85fde-9276-4352-9028-5ee67cf88383",
   "metadata": {},
   "outputs": [],
   "source": [
    "TEST_ANSWER = 8"
   ]
  },
  {
   "cell_type": "code",
   "execution_count": null,
   "id": "52048b87-7e61-4943-85eb-5cdbef4f8426",
   "metadata": {},
   "outputs": [],
   "source": [
    "scenic_score = score_df.max().max()"
   ]
  },
  {
   "cell_type": "code",
   "execution_count": null,
   "id": "060ac31d-7d01-4c11-9313-af9205613277",
   "metadata": {},
   "outputs": [],
   "source": [
    "if TEST:\n",
    "    assert scenic_score == TEST_ANSWER\n",
    "else: \n",
    "    print(\"The best tree has a scenic score of {0}\".format(scenic_score))"
   ]
  }
 ],
 "metadata": {
  "kernelspec": {
   "display_name": "Python 3 (ipykernel)",
   "language": "python",
   "name": "python3"
  },
  "language_info": {
   "codemirror_mode": {
    "name": "ipython",
    "version": 3
   },
   "file_extension": ".py",
   "mimetype": "text/x-python",
   "name": "python",
   "nbconvert_exporter": "python",
   "pygments_lexer": "ipython3",
   "version": "3.10.6"
  }
 },
 "nbformat": 4,
 "nbformat_minor": 5
}
