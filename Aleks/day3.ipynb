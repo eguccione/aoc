{
 "cells": [
  {
   "cell_type": "code",
   "execution_count": null,
   "id": "75128b69-37bc-4179-ae04-dbc17f293706",
   "metadata": {},
   "outputs": [],
   "source": [
    "TEST = False"
   ]
  },
  {
   "cell_type": "code",
   "execution_count": null,
   "id": "39b8e169-9c3d-4f40-aa41-310704da8c4b",
   "metadata": {},
   "outputs": [],
   "source": [
    "if TEST:\n",
    "    filename = \"data/input_3_test\"\n",
    "else:\n",
    "    filename = \"data/input_3\""
   ]
  },
  {
   "cell_type": "code",
   "execution_count": null,
   "id": "9266db4b-f683-45eb-a774-bfd912f2af59",
   "metadata": {},
   "outputs": [],
   "source": [
    "with open(filename) as file:\n",
    "    input_str = file.read()"
   ]
  },
  {
   "cell_type": "code",
   "execution_count": null,
   "id": "e0a09de3-50be-482b-aa7e-7b81afdabed3",
   "metadata": {},
   "outputs": [],
   "source": [
    "rucksacks = input_str.strip(\"\\n\").split(\"\\n\")"
   ]
  },
  {
   "cell_type": "markdown",
   "id": "ed8a6899-b968-4b4c-9aaf-903a35822ba2",
   "metadata": {},
   "source": [
    "Part 1 - Priority for rucksack rearrangement"
   ]
  },
  {
   "cell_type": "code",
   "execution_count": null,
   "id": "76ac951d-7a9a-467f-9449-0fe725d2e380",
   "metadata": {},
   "outputs": [],
   "source": [
    "TEST_ANSWER = 157"
   ]
  },
  {
   "cell_type": "code",
   "execution_count": null,
   "id": "adfec690-3e72-4d22-a08c-6dbc5b894f68",
   "metadata": {},
   "outputs": [],
   "source": [
    "rucksacks_comps = [(sack[:int(len(sack)/2)],sack[int(len(sack)/2):]) for sack in rucksacks]"
   ]
  },
  {
   "cell_type": "code",
   "execution_count": null,
   "id": "c87aac3c-bece-453f-9937-a61b9fb0d793",
   "metadata": {},
   "outputs": [],
   "source": [
    "overlaps = [list(set(r[0]).intersection(set(r[1])))[0] for r in rucksacks_comps]"
   ]
  },
  {
   "cell_type": "code",
   "execution_count": null,
   "id": "d29f499a-04f8-4a79-b5da-234aa04a66db",
   "metadata": {},
   "outputs": [],
   "source": [
    "ord('a')-1"
   ]
  },
  {
   "cell_type": "code",
   "execution_count": null,
   "id": "c94c6434-2b4b-48ab-80cd-29f395e6369a",
   "metadata": {},
   "outputs": [],
   "source": [
    "ord('A')-27"
   ]
  },
  {
   "cell_type": "code",
   "execution_count": null,
   "id": "8f93bfce-80b2-4202-9a85-af389670a108",
   "metadata": {},
   "outputs": [],
   "source": [
    "priorities = [ord(overlap)-96 if overlap.islower() else ord(overlap)-38 for overlap in overlaps]"
   ]
  },
  {
   "cell_type": "code",
   "execution_count": null,
   "id": "2048d8aa-a0c7-44f6-8f02-bbc62853569f",
   "metadata": {},
   "outputs": [],
   "source": [
    "priority_sum = sum(priorities)"
   ]
  },
  {
   "cell_type": "code",
   "execution_count": null,
   "id": "4f3f534d-18db-4dd9-98f9-7b08d8c72680",
   "metadata": {},
   "outputs": [],
   "source": [
    "if TEST:\n",
    "    assert priority_sum == TEST_ANSWER\n",
    "else: \n",
    "    print(\"Sum of priorities is {0}\".format(priority_sum))"
   ]
  },
  {
   "cell_type": "markdown",
   "id": "4a68cc2a-15f6-4de6-8cc6-4d29d99579cf",
   "metadata": {},
   "source": [
    "Part 2 - Get badge numbers for groups of elves"
   ]
  },
  {
   "cell_type": "code",
   "execution_count": null,
   "id": "19e3fe77-8f83-4842-bdcb-310d5f456225",
   "metadata": {},
   "outputs": [],
   "source": [
    "TEST_ANSWER = 70"
   ]
  },
  {
   "cell_type": "code",
   "execution_count": null,
   "id": "1a13f0cc-d611-481e-8d3f-c04a569610bb",
   "metadata": {},
   "outputs": [],
   "source": [
    "TEST = False"
   ]
  },
  {
   "cell_type": "code",
   "execution_count": null,
   "id": "4c7bc601-4807-45b5-b2a4-51e38b31da40",
   "metadata": {},
   "outputs": [],
   "source": [
    "if TEST:\n",
    "    filename = \"data/input_3b_test\"\n",
    "else:\n",
    "    filename = \"data/input_3b\""
   ]
  },
  {
   "cell_type": "code",
   "execution_count": null,
   "id": "e11fe0c9-a83c-4fe0-8b43-78d5bef50ab8",
   "metadata": {},
   "outputs": [],
   "source": [
    "with open(filename) as file:\n",
    "    input_str = file.read()"
   ]
  },
  {
   "cell_type": "code",
   "execution_count": null,
   "id": "00eefbe9-4257-4963-b65d-24062681f257",
   "metadata": {},
   "outputs": [],
   "source": [
    "elves = input_str.strip(\"\\n\").split(\"\\n\")"
   ]
  },
  {
   "cell_type": "code",
   "execution_count": null,
   "id": "4c62245a-d123-458f-b12f-04f4e6b80685",
   "metadata": {},
   "outputs": [],
   "source": [
    "elves[:6]"
   ]
  },
  {
   "cell_type": "code",
   "execution_count": null,
   "id": "9f6ebbd8-1b84-4979-8a6c-d2cc9c6e4001",
   "metadata": {},
   "outputs": [],
   "source": [
    "groups = [elves[i:i+3] for i in range(0,len(elves),3)]"
   ]
  },
  {
   "cell_type": "code",
   "execution_count": null,
   "id": "0753188f-7643-4d1f-ad2c-1ea04b21e718",
   "metadata": {},
   "outputs": [],
   "source": [
    "groups[:2]"
   ]
  },
  {
   "cell_type": "code",
   "execution_count": null,
   "id": "9ed98e92-fce2-4fcf-89ae-c6516d92ca87",
   "metadata": {},
   "outputs": [],
   "source": [
    "overlaps = [list(set(group[0]).intersection(set(group[1])).intersection(set(group[2])))[0] for group in groups]"
   ]
  },
  {
   "cell_type": "code",
   "execution_count": null,
   "id": "a7a5e243-6bc7-4f50-9182-eeca94050d8e",
   "metadata": {},
   "outputs": [],
   "source": [
    "overlaps[:2]"
   ]
  },
  {
   "cell_type": "code",
   "execution_count": null,
   "id": "165a96a4-4b55-484b-8994-3cd7e214a516",
   "metadata": {},
   "outputs": [],
   "source": [
    "priorities = [ord(overlap)-96 if overlap.islower() else ord(overlap)-38 for overlap in overlaps]"
   ]
  },
  {
   "cell_type": "code",
   "execution_count": null,
   "id": "c3e76b19-4597-453a-a0aa-0b1667f578bb",
   "metadata": {},
   "outputs": [],
   "source": [
    "priorities[:2]"
   ]
  },
  {
   "cell_type": "code",
   "execution_count": null,
   "id": "abd96d12-358c-4c13-a470-4ae6f387f421",
   "metadata": {},
   "outputs": [],
   "source": [
    "priority_sum = sum(priorities)"
   ]
  },
  {
   "cell_type": "code",
   "execution_count": null,
   "id": "6d74bda8-15ff-4cda-b73b-711ef82a1bf0",
   "metadata": {},
   "outputs": [],
   "source": [
    "if TEST:\n",
    "    assert priority_sum == TEST_ANSWER\n",
    "else: \n",
    "    print(\"Sum of priorities is {0}\".format(priority_sum))"
   ]
  },
  {
   "cell_type": "code",
   "execution_count": null,
   "id": "46782879-8269-4262-ab1e-c39bfdf89f03",
   "metadata": {},
   "outputs": [],
   "source": []
  }
 ],
 "metadata": {
  "kernelspec": {
   "display_name": "Python 3 (ipykernel)",
   "language": "python",
   "name": "python3"
  },
  "language_info": {
   "codemirror_mode": {
    "name": "ipython",
    "version": 3
   },
   "file_extension": ".py",
   "mimetype": "text/x-python",
   "name": "python",
   "nbconvert_exporter": "python",
   "pygments_lexer": "ipython3",
   "version": "3.10.6"
  }
 },
 "nbformat": 4,
 "nbformat_minor": 5
}
