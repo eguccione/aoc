{
 "cells": [
  {
   "cell_type": "code",
   "execution_count": null,
   "id": "c4c072e4-f3fa-4ee7-aff3-a585b68e5efd",
   "metadata": {},
   "outputs": [],
   "source": [
    "from numpy import argmax"
   ]
  },
  {
   "cell_type": "code",
   "execution_count": null,
   "id": "49987236-7011-4a19-b6c1-153392cb0aca",
   "metadata": {},
   "outputs": [],
   "source": [
    "TEST = True"
   ]
  },
  {
   "cell_type": "code",
   "execution_count": null,
   "id": "38a6ad33-e153-4929-8151-37782f63a6cd",
   "metadata": {},
   "outputs": [],
   "source": [
    "if TEST:\n",
    "    filename = \"data/input_1_test\"\n",
    "else:\n",
    "    filename = \"data/input_1\""
   ]
  },
  {
   "cell_type": "code",
   "execution_count": null,
   "id": "84dcbb2b-d5a9-421f-b297-010d2d7fc7ee",
   "metadata": {},
   "outputs": [],
   "source": [
    "with open(filename) as file:\n",
    "    input_str = file.read()"
   ]
  },
  {
   "cell_type": "markdown",
   "id": "dfbebae1-6613-4559-951a-fe9c9f328342",
   "metadata": {},
   "source": [
    "Part one - how many calories is the elf carrying the most calories carrying?"
   ]
  },
  {
   "cell_type": "code",
   "execution_count": null,
   "id": "5dfb4832-2414-42ae-ba05-bc31406cb645",
   "metadata": {},
   "outputs": [],
   "source": [
    "input_str = input_str.strip(\"\\n\")"
   ]
  },
  {
   "cell_type": "code",
   "execution_count": null,
   "id": "d7c34144-1a8b-4546-b047-7e9a33e308fa",
   "metadata": {},
   "outputs": [],
   "source": [
    "elves = input_str.split(\"\\n\\n\")"
   ]
  },
  {
   "cell_type": "code",
   "execution_count": null,
   "id": "7015fe99-93e7-43dd-8513-83c18876a647",
   "metadata": {},
   "outputs": [],
   "source": [
    "elves_food = [list(map(float, elf.split(\"\\n\"))) for elf in elves]"
   ]
  },
  {
   "cell_type": "code",
   "execution_count": null,
   "id": "b56aeb9e-e79f-4d2b-a069-04253c8ea696",
   "metadata": {},
   "outputs": [],
   "source": [
    "elves_total_food = [sum(food) for food in elves_food]"
   ]
  },
  {
   "cell_type": "code",
   "execution_count": null,
   "id": "c37136ff-e53b-4fb4-81e9-e62914a3ef7f",
   "metadata": {},
   "outputs": [],
   "source": [
    "max_elf = argmax(elves_total_food)+1\n",
    "max_food = max(elves_total_food)"
   ]
  },
  {
   "cell_type": "code",
   "execution_count": null,
   "id": "162c1f41-39c2-4b69-ab19-0390354f0315",
   "metadata": {},
   "outputs": [],
   "source": [
    "print(\"Elf no. {0} is carrying the most calories - {1}\".format(max_elf, max_food))"
   ]
  },
  {
   "cell_type": "markdown",
   "id": "53fe415f-b763-432e-a5e2-fd6846bc6fa8",
   "metadata": {},
   "source": [
    "Part 2 - How many calories are the top 3 elves carrying?"
   ]
  },
  {
   "cell_type": "code",
   "execution_count": null,
   "id": "6f4f7208-bfdc-49dd-8c86-8a3b4f9a9401",
   "metadata": {},
   "outputs": [],
   "source": [
    "n = 3"
   ]
  },
  {
   "cell_type": "code",
   "execution_count": null,
   "id": "3251cb0a-34b4-4a24-8245-d455eddcdc17",
   "metadata": {},
   "outputs": [],
   "source": [
    "total_food = 0\n",
    "for i in range(n):\n",
    "    max_food = max(elves_total_food)\n",
    "    total_food += max_food\n",
    "    elves_total_food.remove(max_food)"
   ]
  },
  {
   "cell_type": "code",
   "execution_count": null,
   "id": "f8ee9e96-cabb-4d5b-9b6f-15a2cb3c42d0",
   "metadata": {},
   "outputs": [],
   "source": [
    "print(\"Total calories carried by the top {0} elves is {1}\".format(n, total_food))"
   ]
  },
  {
   "cell_type": "code",
   "execution_count": null,
   "id": "69995888-a6ae-45c9-8b50-af06801aaba0",
   "metadata": {},
   "outputs": [],
   "source": []
  },
  {
   "cell_type": "code",
   "execution_count": null,
   "id": "657082da-c7f7-4549-97dc-e65b2b19a81a",
   "metadata": {},
   "outputs": [],
   "source": []
  },
  {
   "cell_type": "code",
   "execution_count": null,
   "id": "ca089134-f126-41d5-b95d-9fa753ec60c1",
   "metadata": {},
   "outputs": [],
   "source": []
  }
 ],
 "metadata": {
  "kernelspec": {
   "display_name": "Python 3 (ipykernel)",
   "language": "python",
   "name": "python3"
  },
  "language_info": {
   "codemirror_mode": {
    "name": "ipython",
    "version": 3
   },
   "file_extension": ".py",
   "mimetype": "text/x-python",
   "name": "python",
   "nbconvert_exporter": "python",
   "pygments_lexer": "ipython3",
   "version": "3.10.6"
  }
 },
 "nbformat": 4,
 "nbformat_minor": 5
}
