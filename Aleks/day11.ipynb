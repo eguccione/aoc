{
 "cells": [
  {
   "cell_type": "code",
   "execution_count": null,
   "id": "33afc235-ca37-4427-9abf-94762d6e766d",
   "metadata": {},
   "outputs": [],
   "source": [
    "import re\n",
    "from copy import deepcopy"
   ]
  },
  {
   "cell_type": "code",
   "execution_count": null,
   "id": "9c7721c1-26b6-4ec8-9814-b4ce93450de3",
   "metadata": {},
   "outputs": [],
   "source": [
    "TEST = False"
   ]
  },
  {
   "cell_type": "code",
   "execution_count": null,
   "id": "b3e9efcd-1af7-46cf-b60a-d301e5a6d722",
   "metadata": {},
   "outputs": [],
   "source": [
    "if TEST:\n",
    "    filename = \"data/input_11_test\"\n",
    "else:\n",
    "    filename = \"data/input_11\""
   ]
  },
  {
   "cell_type": "code",
   "execution_count": null,
   "id": "7feac956-cbfb-42f1-8036-a5d35266cd13",
   "metadata": {},
   "outputs": [],
   "source": [
    "with open(filename) as file:\n",
    "    input_str = file.read()"
   ]
  },
  {
   "cell_type": "code",
   "execution_count": null,
   "id": "e2c03437-cdd3-4396-aab6-8580b558a06f",
   "metadata": {},
   "outputs": [],
   "source": [
    "input_lines = input_str.split(\"\\n\")\n",
    "input_lines[:20]"
   ]
  },
  {
   "cell_type": "code",
   "execution_count": null,
   "id": "0d5191c4-e925-46a3-913b-e3eb5b2662af",
   "metadata": {},
   "outputs": [],
   "source": [
    "monkeys = list(range(len(input_lines)//7))\n",
    "monkeys"
   ]
  },
  {
   "cell_type": "code",
   "execution_count": null,
   "id": "b71c5a15-8b50-4990-8e13-0110b38dba9a",
   "metadata": {},
   "outputs": [],
   "source": [
    "starting_items  = [list(map(int,re.findall(r\"\\d+\",input_lines[i]))) for i in list(range(1,len(input_lines),7))]\n",
    "starting_items"
   ]
  },
  {
   "cell_type": "code",
   "execution_count": null,
   "id": "221ad5b3-c801-4359-b43b-1f5d61566b27",
   "metadata": {},
   "outputs": [],
   "source": [
    "def get_op(op, var):\n",
    "    match op, var:\n",
    "        case '+','old':\n",
    "            function = lambda x: x+x\n",
    "        case '*','old':\n",
    "            function = lambda x: x*x\n",
    "        case '+',_:\n",
    "            function = lambda x: x+int(var)\n",
    "        case '*',_:\n",
    "            function = lambda x: x*int(var)\n",
    "    return function\n"
   ]
  },
  {
   "cell_type": "code",
   "execution_count": null,
   "id": "f4984740-4168-4411-a029-839d1cbebaba",
   "metadata": {},
   "outputs": [],
   "source": [
    "operations = [get_op(*input_lines[i].split(' ')[-2:]) for i in list(range(2,len(input_lines),7))]"
   ]
  },
  {
   "cell_type": "code",
   "execution_count": null,
   "id": "38df7bbf-a849-41bd-898a-c7737d4c3c97",
   "metadata": {},
   "outputs": [],
   "source": [
    "tests = [int(input_lines[i].split(' ')[-1]) for i in list(range(3,len(input_lines),7))]\n",
    "tests"
   ]
  },
  {
   "cell_type": "code",
   "execution_count": null,
   "id": "5b753be4-f1f2-4827-8dad-84d5e4e00810",
   "metadata": {},
   "outputs": [],
   "source": [
    "true_throw = [int(input_lines[i].split(' ')[-1]) for i in list(range(4,len(input_lines),7))]\n",
    "print(true_throw)\n",
    "false_throw = [int(input_lines[i].split(' ')[-1]) for i in list(range(5,len(input_lines),7))]\n",
    "print(false_throw)"
   ]
  },
  {
   "cell_type": "code",
   "execution_count": null,
   "id": "3f132ea0-a7f7-4882-a464-0dba57361a01",
   "metadata": {},
   "outputs": [],
   "source": [
    "total_inspected_items = [0 for i in monkeys]\n",
    "total_inspected_items"
   ]
  },
  {
   "cell_type": "code",
   "execution_count": null,
   "id": "e1b70edc-6feb-4f82-ab18-5cae266b3930",
   "metadata": {},
   "outputs": [],
   "source": [
    "def inspect_item(item, monkey):\n",
    "    \n",
    "    op_result = operations[monkey](item)\n",
    "    new_item = op_result//3\n",
    "    if new_item%tests[monkey]==0:\n",
    "        throw = true_throw[monkey]\n",
    "    else:\n",
    "        throw = false_throw[monkey]\n",
    "    \n",
    "    total_inspected_items[monkey] += 1\n",
    "    \n",
    "    return throw, new_item"
   ]
  },
  {
   "cell_type": "code",
   "execution_count": null,
   "id": "824484cf-764c-42c8-86fc-f96c3ad31075",
   "metadata": {},
   "outputs": [],
   "source": [
    "def turn(items, monkey):\n",
    "    items_to_inspect = items[monkey]\n",
    "    for item in items_to_inspect:\n",
    "        throw, new_item = inspect_item(item, monkey) # figure out where to throw item and what the new worryt score is\n",
    "        items[throw].append(new_item) # Throw item with new worry score\n",
    "    items[monkey] = [] # All items inspected and thrown, clear list\n",
    "    return items"
   ]
  },
  {
   "cell_type": "code",
   "execution_count": null,
   "id": "e8725064-22b6-455b-baf7-77301861eb34",
   "metadata": {},
   "outputs": [],
   "source": [
    "def round(items):\n",
    "    for monkey in monkeys:\n",
    "        items = turn(items,monkey)\n",
    "    return items"
   ]
  },
  {
   "cell_type": "code",
   "execution_count": null,
   "id": "fa991d2a-1b81-4d1a-9e8e-625ad7dd00e0",
   "metadata": {},
   "outputs": [],
   "source": [
    "def n_rounds(items,n):\n",
    "    for n in range(n):\n",
    "        items=round(items)\n",
    "    return items"
   ]
  },
  {
   "cell_type": "code",
   "execution_count": null,
   "id": "c60c4a81-676a-44c6-89d8-f056ff4dc930",
   "metadata": {},
   "outputs": [],
   "source": [
    "total_inspected_items = [0 for i in monkeys]\n",
    "total_inspected_items"
   ]
  },
  {
   "cell_type": "code",
   "execution_count": null,
   "id": "e1e48feb-ddb2-4592-b520-e977fc2fa291",
   "metadata": {},
   "outputs": [],
   "source": [
    "_ = n_rounds(deepcopy(starting_items),20)"
   ]
  },
  {
   "cell_type": "code",
   "execution_count": null,
   "id": "0f541769-9802-41ba-a8d3-e869cb5de73e",
   "metadata": {},
   "outputs": [],
   "source": [
    "total_inspected_items.sort()"
   ]
  },
  {
   "cell_type": "code",
   "execution_count": null,
   "id": "dd208308-299c-4222-8d61-4cd9bce780a2",
   "metadata": {},
   "outputs": [],
   "source": [
    "total_inspected_items"
   ]
  },
  {
   "cell_type": "code",
   "execution_count": null,
   "id": "a31f4381-96cc-4b4e-8479-1e245eccc1d0",
   "metadata": {},
   "outputs": [],
   "source": [
    "monkey_business = total_inspected_items[-1]*total_inspected_items[-2]"
   ]
  },
  {
   "cell_type": "code",
   "execution_count": null,
   "id": "f650758e-9e72-4e31-a43e-a43d9b7ff003",
   "metadata": {},
   "outputs": [],
   "source": [
    "TEST_ANSWER = 10605"
   ]
  },
  {
   "cell_type": "code",
   "execution_count": null,
   "id": "a1756a00-2e76-4506-8796-48f8bc6c11c7",
   "metadata": {},
   "outputs": [],
   "source": [
    "if TEST:\n",
    "    assert monkey_business == TEST_ANSWER\n",
    "else: \n",
    "    print(\"Monkey Business is at {0}\".format(monkey_business))"
   ]
  },
  {
   "cell_type": "markdown",
   "id": "f9f243b2-6433-4e9c-9fa8-10e9f872729a",
   "metadata": {},
   "source": [
    "Part 2 - More worry\n",
    "Because we no longer divide the worry by 3, our worry levels will cause memory overflow if we calculate them explicitly at evert turn and round. However, we don't need to do that - all we need to do is to keep track of when the new worry levels pass and fail monek tests.\n",
    "\n",
    "All the tests check whether the worry level is divisible by a prime. Hence, if we know the result of the modulo operation by that prime of a worry level, we can work out whether the new worry level will be divisible by that prime:\n",
    " - for addition operations we know that x+y mod k == 0 is true when ((x mod k) + (y mod k)) mod k == 0.\n",
    " - for multiplication operations we know that x\\*y mod k == 0 is true when x mod k == 0 OR y mod k == 0 (only true for k in prime numbers)\n",
    " \n",
    "Hence for each item, instead if storing it's value, we only need to store the result of x mod k for every k that our monkeys use to test."
   ]
  },
  {
   "cell_type": "markdown",
   "id": "e776ab30-1281-4beb-b698-2b8e88c011fe",
   "metadata": {},
   "source": [
    "First we convert each starting item x into a list of numbers, each representing the result of x mod k for k in tests"
   ]
  },
  {
   "cell_type": "code",
   "execution_count": null,
   "id": "3d0882bd-2142-4f19-8755-fcd3a9eae6c1",
   "metadata": {},
   "outputs": [],
   "source": [
    "starting_items"
   ]
  },
  {
   "cell_type": "code",
   "execution_count": null,
   "id": "371528a6-b0a4-4799-aecc-c01e13c2b648",
   "metadata": {},
   "outputs": [],
   "source": [
    "new_starting_items = [[[x % k for k in tests] for x in monkey_items] for monkey_items in starting_items]"
   ]
  },
  {
   "cell_type": "code",
   "execution_count": null,
   "id": "003a50da-be4d-4b94-9f14-58775af0a574",
   "metadata": {},
   "outputs": [],
   "source": [
    "new_starting_items"
   ]
  },
  {
   "cell_type": "markdown",
   "id": "368ba001-6e01-49dd-8ea7-bbb9fb933d27",
   "metadata": {},
   "source": [
    "Next, we create a new set of operations, which return the modulo values instead of explicit item values for each item"
   ]
  },
  {
   "cell_type": "code",
   "execution_count": null,
   "id": "a36a24fa-bcf6-4c11-94c5-0ce63d952b3c",
   "metadata": {},
   "outputs": [],
   "source": [
    "def get_op_mod(op, var):\n",
    "    match op, var:\n",
    "        case '+','old':\n",
    "            function = lambda x,k: ((x%k) + (x%k))%k\n",
    "        case '*','old':\n",
    "            function = lambda x,k: ((x%k) * (x%k))%k\n",
    "        case '+',_:\n",
    "            function = lambda x,k: ((x%k) + (int(var)%k))%k\n",
    "        case '*',_:\n",
    "            function = lambda x,k: ((x%k) * (int(var)%k))%k\n",
    "    return function"
   ]
  },
  {
   "cell_type": "code",
   "execution_count": null,
   "id": "d8238979-8518-4480-aa81-919c191e08f5",
   "metadata": {},
   "outputs": [],
   "source": [
    "operations_mod = [get_op_mod(*input_lines[i].split(' ')[-2:]) for i in list(range(2,len(input_lines),7))]"
   ]
  },
  {
   "cell_type": "code",
   "execution_count": null,
   "id": "e432b338-eb59-4608-b963-627a3cb13666",
   "metadata": {},
   "outputs": [],
   "source": [
    "def inspect_item(item, monkey):\n",
    "    \n",
    "    new_item = [operations_mod[monkey](item[monkey_i],tests[monkey_i]) for monkey_i in monkeys]\n",
    "    if new_item[monkey]==0:\n",
    "        throw = true_throw[monkey]\n",
    "    else:\n",
    "        throw = false_throw[monkey]\n",
    "    \n",
    "    total_inspected_items[monkey] += 1\n",
    "    \n",
    "    return throw, new_item"
   ]
  },
  {
   "cell_type": "code",
   "execution_count": null,
   "id": "94809ef6-032e-4876-baf9-d39d0785a55c",
   "metadata": {},
   "outputs": [],
   "source": [
    "total_inspected_items = [0 for i in monkeys]\n",
    "total_inspected_items"
   ]
  },
  {
   "cell_type": "code",
   "execution_count": null,
   "id": "16e4ee4d-6035-472b-92ef-cd9d2b755975",
   "metadata": {},
   "outputs": [],
   "source": [
    "_ = n_rounds(deepcopy(new_starting_items),10000)"
   ]
  },
  {
   "cell_type": "code",
   "execution_count": null,
   "id": "503f652e-bfbc-455b-b857-1e51a5ae58a6",
   "metadata": {},
   "outputs": [],
   "source": [
    "total_inspected_items.sort()"
   ]
  },
  {
   "cell_type": "code",
   "execution_count": null,
   "id": "8cf50650-eda9-439c-a9d4-9c8556c4004a",
   "metadata": {},
   "outputs": [],
   "source": [
    "total_inspected_items"
   ]
  },
  {
   "cell_type": "code",
   "execution_count": null,
   "id": "2b13a88c-4b4e-4006-af5b-99579d600107",
   "metadata": {},
   "outputs": [],
   "source": [
    "monkey_business = total_inspected_items[-1]*total_inspected_items[-2]"
   ]
  },
  {
   "cell_type": "code",
   "execution_count": null,
   "id": "69c799ff-55fa-4000-aec6-1deffbbf5910",
   "metadata": {},
   "outputs": [],
   "source": [
    "TEST_ANSWER = 2713310158"
   ]
  },
  {
   "cell_type": "code",
   "execution_count": null,
   "id": "d7850b28-c484-404d-bfbf-237a5725a324",
   "metadata": {},
   "outputs": [],
   "source": [
    "if TEST:\n",
    "    assert monkey_business == TEST_ANSWER\n",
    "else: \n",
    "    print(\"Monkey Business is at {0}\".format(monkey_business))"
   ]
  }
 ],
 "metadata": {
  "kernelspec": {
   "display_name": "Python 3 (ipykernel)",
   "language": "python",
   "name": "python3"
  },
  "language_info": {
   "codemirror_mode": {
    "name": "ipython",
    "version": 3
   },
   "file_extension": ".py",
   "mimetype": "text/x-python",
   "name": "python",
   "nbconvert_exporter": "python",
   "pygments_lexer": "ipython3",
   "version": "3.10.6"
  }
 },
 "nbformat": 4,
 "nbformat_minor": 5
}
