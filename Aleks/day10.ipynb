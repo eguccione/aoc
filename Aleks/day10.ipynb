{
 "cells": [
  {
   "cell_type": "code",
   "execution_count": null,
   "id": "6f28a948-0744-4ef5-892e-a7b16fb7219a",
   "metadata": {},
   "outputs": [],
   "source": [
    "import pandas as pd"
   ]
  },
  {
   "cell_type": "code",
   "execution_count": null,
   "id": "207552b1-ba9b-4203-a2cc-894c3c1f36dd",
   "metadata": {},
   "outputs": [],
   "source": [
    "TEST = False"
   ]
  },
  {
   "cell_type": "code",
   "execution_count": null,
   "id": "e760c78a-c1b2-4c60-a67c-0330ed245278",
   "metadata": {},
   "outputs": [],
   "source": [
    "if TEST:\n",
    "    filename = \"data/input_10_test\"\n",
    "else:\n",
    "    filename = \"data/input_10\""
   ]
  },
  {
   "cell_type": "code",
   "execution_count": null,
   "id": "a8b1a40a-0862-4c12-8fb5-30b408806ad9",
   "metadata": {},
   "outputs": [],
   "source": [
    "with open(filename) as file:\n",
    "    input_str = file.read()"
   ]
  },
  {
   "cell_type": "code",
   "execution_count": null,
   "id": "2a9b5452-5e07-4193-888d-3a08671db3a6",
   "metadata": {},
   "outputs": [],
   "source": [
    "program = input_str.strip(\"\\n\").split(\"\\n\")"
   ]
  },
  {
   "cell_type": "code",
   "execution_count": null,
   "id": "2ecbc071-917c-4a72-9186-8cd4ac04a5b2",
   "metadata": {},
   "outputs": [],
   "source": [
    "program[:10]"
   ]
  },
  {
   "cell_type": "code",
   "execution_count": null,
   "id": "a6c2c473-6d01-4088-aa0b-85dd09185ace",
   "metadata": {},
   "outputs": [],
   "source": [
    "X=1"
   ]
  },
  {
   "cell_type": "code",
   "execution_count": null,
   "id": "6cf0f775-f1bd-41de-bc06-e5cdc03450fc",
   "metadata": {},
   "outputs": [],
   "source": [
    "values_X = [1]\n",
    "instruction = []\n",
    "for line in program:\n",
    "    if line.split(' ')[0]=='addx':\n",
    "        values_X.append(values_X[-1])\n",
    "        values_X.append(values_X[-1] + int(line.split(' ')[1]))\n",
    "        instruction.append(line)\n",
    "        instruction.append(line)\n",
    "    else:\n",
    "        values_X.append(values_X[-1])\n",
    "        instruction.append(line)\n",
    "instruction.append('')"
   ]
  },
  {
   "cell_type": "code",
   "execution_count": null,
   "id": "1e9aaca6-0aa5-44e0-88b1-e95f2688101b",
   "metadata": {},
   "outputs": [],
   "source": [
    "cycles = list(range(20,len(values_X),40))\n",
    "cycles"
   ]
  },
  {
   "cell_type": "code",
   "execution_count": null,
   "id": "cab2270f-24a5-46fc-a998-7f05cccef550",
   "metadata": {},
   "outputs": [],
   "source": [
    "track_X = pd.DataFrame({'instruction':instruction, 'X':values_X}, index=range(1,len(values_X)+1))\n",
    "track_X['signal_strength'] = track_X['X']*track_X.reset_index()['index'].values\n",
    "signal_strength = track_X.loc[cycles]"
   ]
  },
  {
   "cell_type": "code",
   "execution_count": null,
   "id": "2d6dc5c3-45d2-450d-aadf-ff0d2024b319",
   "metadata": {},
   "outputs": [],
   "source": [
    "signal_strength#['signal_strength']"
   ]
  },
  {
   "cell_type": "code",
   "execution_count": null,
   "id": "72fd0447-c473-4131-b63a-d7e7b5595f45",
   "metadata": {},
   "outputs": [],
   "source": [
    "total_signal_strength = sum(signal_strength['signal_strength'])"
   ]
  },
  {
   "cell_type": "code",
   "execution_count": null,
   "id": "ad546968-dbf3-4969-a8ba-b6fa9a729d08",
   "metadata": {},
   "outputs": [],
   "source": [
    "TEST_ANSWER = 13140"
   ]
  },
  {
   "cell_type": "code",
   "execution_count": null,
   "id": "1d02cab5-1702-4161-95f1-bed4b93889a3",
   "metadata": {},
   "outputs": [],
   "source": [
    "if TEST:\n",
    "    assert total_signal_strength == TEST_ANSWER\n",
    "else: \n",
    "    print(\"Total signal strength is {0}\".format(total_signal_strength))"
   ]
  },
  {
   "cell_type": "markdown",
   "id": "61b8720d-45b8-4da4-98d9-67e2ac0e2b0d",
   "metadata": {},
   "source": [
    "Part 2 - draw the screen"
   ]
  },
  {
   "cell_type": "code",
   "execution_count": null,
   "id": "163beb6c-c72c-4a86-983b-83ffc40728c1",
   "metadata": {},
   "outputs": [],
   "source": [
    "pixels = track_X.reset_index().rename(columns={'index':'cycle'}).drop(columns='signal_strength')\n",
    "pixels['CRT'] = pixels.reset_index()['index'].apply(lambda x: x%40)\n",
    "pixels['pixel'] = pixels.apply(lambda r: '#' if r['CRT'] in [r['X']-1, r['X'], r['X']+1] else '.',axis=1)\n",
    "pixels['row'] = pixels['cycle'].apply(lambda x: (x-1)//40)\n",
    "pixels = pixels.iloc[:-1]\n",
    "pixels"
   ]
  },
  {
   "cell_type": "code",
   "execution_count": null,
   "id": "26d2e7f6-ce37-40b6-a21e-769b6a4e8d1e",
   "metadata": {},
   "outputs": [],
   "source": [
    "for row in range(max(pixels['row']+1)):\n",
    "    print(''.join(pixels[pixels['row']==row]['pixel'].tolist()))"
   ]
  },
  {
   "cell_type": "markdown",
   "id": "9dbd48c1-dccc-43a3-aa6a-a2ca819fa2a2",
   "metadata": {},
   "source": [
    "Letters printed on screen: EJCFPGLH"
   ]
  }
 ],
 "metadata": {
  "kernelspec": {
   "display_name": "Python 3 (ipykernel)",
   "language": "python",
   "name": "python3"
  },
  "language_info": {
   "codemirror_mode": {
    "name": "ipython",
    "version": 3
   },
   "file_extension": ".py",
   "mimetype": "text/x-python",
   "name": "python",
   "nbconvert_exporter": "python",
   "pygments_lexer": "ipython3",
   "version": "3.10.6"
  }
 },
 "nbformat": 4,
 "nbformat_minor": 5
}
