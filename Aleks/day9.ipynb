{
 "cells": [
  {
   "cell_type": "code",
   "execution_count": null,
   "id": "0ef20188-265a-495a-89dd-febd89ae81cd",
   "metadata": {},
   "outputs": [],
   "source": [
    "import numpy as np\n",
    "import pandas as pd\n",
    "from matplotlib import pyplot as plt\n",
    "from matplotlib import colormaps"
   ]
  },
  {
   "cell_type": "code",
   "execution_count": null,
   "id": "4d9e20b0-5fc7-459f-87c6-48a55bd7b014",
   "metadata": {},
   "outputs": [],
   "source": [
    "TEST = False"
   ]
  },
  {
   "cell_type": "code",
   "execution_count": null,
   "id": "9e6b6cf3-1adf-4ebf-8836-48f821a22f91",
   "metadata": {},
   "outputs": [],
   "source": [
    "# Define length of rope\n",
    "R=10"
   ]
  },
  {
   "cell_type": "code",
   "execution_count": null,
   "id": "70bfed2a-fb0c-4a4a-9328-1856bbd15678",
   "metadata": {},
   "outputs": [],
   "source": [
    "if TEST==1:\n",
    "    filename = \"data/input_9_test\"\n",
    "elif TEST==2:\n",
    "    filename = \"data/input_9_test_2\"\n",
    "else:\n",
    "    filename = \"data/input_9\""
   ]
  },
  {
   "cell_type": "code",
   "execution_count": null,
   "id": "10e4c396-4128-425f-8461-770751a02dd2",
   "metadata": {},
   "outputs": [],
   "source": [
    "with open(filename) as file:\n",
    "    input_str = file.read()"
   ]
  },
  {
   "cell_type": "code",
   "execution_count": null,
   "id": "8ec5d59c-9f62-437d-9c3b-ab0595c98f13",
   "metadata": {},
   "outputs": [],
   "source": [
    "instructions = [line.split(' ') for line in input_str.strip('\\n').split('\\n')]\n",
    "instructions[:5]"
   ]
  },
  {
   "cell_type": "code",
   "execution_count": null,
   "id": "4115753b-5b31-4a11-8bd5-e2debecc11f9",
   "metadata": {},
   "outputs": [],
   "source": [
    "directions = {'R':(1,0),\n",
    "              'L':(-1,0),\n",
    "              'U':(0,1),\n",
    "              'D':(0,-1)}"
   ]
  },
  {
   "cell_type": "code",
   "execution_count": null,
   "id": "89e098a9-b489-46c2-a617-bc91f5197b63",
   "metadata": {},
   "outputs": [],
   "source": [
    "moves = [(directions[move[0]],int(move[1])) for move in instructions]\n",
    "moves[:5]"
   ]
  },
  {
   "cell_type": "code",
   "execution_count": null,
   "id": "55f85490-b202-4afe-9444-76aea726b7bb",
   "metadata": {},
   "outputs": [],
   "source": [
    "class Position:\n",
    "       \n",
    "    def __init__(self, x, y):\n",
    "        self.x = x\n",
    "        self.y = y\n",
    "        self.trail = [(x,y)]\n",
    "    \n",
    "    def move(self, x, y):\n",
    "        self.x += x\n",
    "        self.y += y\n",
    "        self.trail += [(self.x,self.y)]\n",
    "        \n",
    "    def distance(self, position):\n",
    "        x, y = position.x, position.y\n",
    "        x_dif = self.x - x\n",
    "        y_dif = self.y - y\n",
    "        return Position(x_dif, y_dif)        \n",
    "    \n",
    "    def __str__(self):\n",
    "        return \"({0},{1})\".format(self.x,self.y)\n",
    "    \n",
    "    def __repr__(self):\n",
    "        return \"({0},{1})\".format(self.x,self.y)  "
   ]
  },
  {
   "cell_type": "code",
   "execution_count": null,
   "id": "d7815f3b-60ae-4275-b488-918e01af7555",
   "metadata": {},
   "outputs": [],
   "source": [
    "def move_tail(H, T, verbose=False, i=''):\n",
    "    '''Move the tail position to catch up with the head'''\n",
    "    dist = H.distance(T)\n",
    "    if verbose: print(\"  distance from knot {1} to knot {2} is {0}\".format(dist,i+1,i))\n",
    "    if verbose: print(\"  knot {2} moved from ({0},{1})\".format(T.x,T.y,i+1), end=' ')\n",
    "    if abs(dist.x)<=1 and abs(dist.y)<=1:\n",
    "        pass\n",
    "    elif abs(dist.x)>1 and dist.y==0:\n",
    "        T.move(np.sign(dist.x), 0)\n",
    "    elif dist.x==0 and abs(dist.y)>1:\n",
    "        T.move(0,np.sign(dist.y))\n",
    "    elif abs(dist.x)>1 and abs(dist.y)==1:\n",
    "        T.move(np.sign(dist.x),np.sign(dist.y))\n",
    "    elif abs(dist.x)==1 and abs(dist.y)>1:\n",
    "        T.move(np.sign(dist.x),np.sign(dist.y))\n",
    "    elif abs(dist.x)==2 and abs(dist.y)==2:\n",
    "        T.move(np.sign(dist.x),np.sign(dist.y))\n",
    "    else:\n",
    "        raise ValueError(\"knot {1} too far away from knot {2} - at {0} distance!\".format(dist,i+1,i))\n",
    "    if verbose: print(\" to ({0},{1})\\n\".format(T.x,T.y))\n"
   ]
  },
  {
   "cell_type": "code",
   "execution_count": null,
   "id": "59c67139-5a4d-43b9-b7ea-a1a82068ce2b",
   "metadata": {},
   "outputs": [],
   "source": [
    "def move_heads(rope,vector,n_steps,verbose=True):\n",
    "    '''Move the rope's head and all following knots iteratively'''\n",
    "    for i in range(n_steps):\n",
    "        if verbose: print(\" head moved from {0}\".format(rope[0]), end=' ')\n",
    "        rope[0].move(*vector)\n",
    "        if verbose: print(\" to {0}\".format(rope[0]))\n",
    "        for i in range(R-1):\n",
    "            move_tail(rope[i],rope[i+1], verbose, i) \n",
    "    \n",
    "    "
   ]
  },
  {
   "cell_type": "code",
   "execution_count": null,
   "id": "cf48a65b-b38c-4bdf-8eaa-aa5e732dfbbe",
   "metadata": {},
   "outputs": [],
   "source": [
    "def execute_rope_moves(moves, verbose=False, plot=True):\n",
    "    '''Move a rope with all it's knots according to the list of moves'''\n",
    "    rope = [Position(0,0) for i in range(R)]\n",
    "    if plot: render_rope(rope)\n",
    "    for move in moves:\n",
    "        if verbose: print(\"Head: {0}, Tail: {1}, moving {2} steps in {3} direction\".format(rope[0],rope[-1],move[1],move[0]))\n",
    "        move_heads(rope,move[0],move[1], verbose)\n",
    "        if plot: render_rope(rope)\n",
    "    return rope"
   ]
  },
  {
   "cell_type": "markdown",
   "id": "bde544a0-7c99-429a-b963-41d302999383",
   "metadata": {},
   "source": [
    "Get the boundaries of the region where the rope will move based on the list of moves. This is used in render_rope()."
   ]
  },
  {
   "cell_type": "code",
   "execution_count": null,
   "id": "dec18859-a9d1-47e1-8ed3-b6d214b41c18",
   "metadata": {},
   "outputs": [],
   "source": [
    "x = [0]\n",
    "y = [0]\n",
    "for instruction in instructions:\n",
    "    direction, steps = instruction\n",
    "    steps = int(steps)\n",
    "    match direction:\n",
    "        case 'R':\n",
    "            x.append(x[-1] + steps)\n",
    "        case 'L':\n",
    "            x.append(x[-1] - steps)\n",
    "        case 'U':\n",
    "            y.append(y[-1] + steps)\n",
    "        case 'D':\n",
    "            y.append(y[-1] - steps)     \n",
    "\n",
    "x_max = max(x)\n",
    "x_min = min(x)\n",
    "y_max = max(y)\n",
    "y_min = min(y)\n",
    "print(\"X range: {0} to {1}, Y range: {2} to {3}\".format(x_min, x_max, y_min, y_max))"
   ]
  },
  {
   "cell_type": "code",
   "execution_count": null,
   "id": "ff12d62f-7aee-41e2-ba78-b6f2ef16768e",
   "metadata": {},
   "outputs": [],
   "source": [
    "def render_rope(rope):\n",
    "    '''Plot current position of the rope with all it's knots on a grid'''\n",
    "    grid = pd.DataFrame(-10,columns = list(range(x_min, x_max+1)), index = list(range(y_min, y_max+1)))\n",
    "    for i in range(len(rope)):\n",
    "        grid.loc[rope[i].y,rope[i].x] = i\n",
    "\n",
    "    cmap = colormaps['plasma']\n",
    "    fig, ax = plt.subplots(1,1,figsize=(2,2))\n",
    "    ax.imshow(grid[::-1], cmap=cmap, interpolation='none', extent=[x_min,x_max+1,y_min,y_max+1])\n",
    "      "
   ]
  },
  {
   "cell_type": "code",
   "execution_count": null,
   "id": "44e9c051-6daf-44ca-b707-de4d7ce52baa",
   "metadata": {},
   "outputs": [],
   "source": [
    "# Recommend verbose=False for long rope\n",
    "# Recommend plot=False for non-test input\n",
    "rope_end = execute_rope_moves(moves, verbose=False, plot=False)"
   ]
  },
  {
   "cell_type": "code",
   "execution_count": null,
   "id": "96df01d5-89ac-49f5-afbd-9f57733417e2",
   "metadata": {},
   "outputs": [],
   "source": [
    "n_unique_tail_positions = len(set(rope_end[-1].trail))"
   ]
  },
  {
   "cell_type": "code",
   "execution_count": null,
   "id": "d4f8c22b-d019-41a6-8fa7-d2b4a597bae8",
   "metadata": {},
   "outputs": [],
   "source": [
    "match TEST, R:\n",
    "    case 1, 2:\n",
    "        TEST_ANSWER=13\n",
    "    case 1, 10:\n",
    "        TEST_ANSWER=1\n",
    "    case 2, 10:\n",
    "        TEST_ANSWER=36\n",
    "        "
   ]
  },
  {
   "cell_type": "code",
   "execution_count": null,
   "id": "fca0d5fc-1d0f-4222-9356-995dcf72ad5f",
   "metadata": {},
   "outputs": [],
   "source": [
    "if TEST:\n",
    "    assert n_unique_tail_positions == TEST_ANSWER\n",
    "else: \n",
    "    print(\"Tail appeared at {0} unique positions\".format(n_unique_tail_positions))"
   ]
  },
  {
   "cell_type": "markdown",
   "id": "ff474b00-4a22-4d33-924c-df3e3929607a",
   "metadata": {},
   "source": [
    "Visualise all the positions where the tail has appeared"
   ]
  },
  {
   "cell_type": "code",
   "execution_count": null,
   "id": "8cf303c3-1ea7-45b4-bccc-bc8887612628",
   "metadata": {},
   "outputs": [],
   "source": [
    "tail_trail = [Position(*t) for t in rope_end[-1].trail]\n",
    "render_rope(tail_trail)"
   ]
  },
  {
   "cell_type": "code",
   "execution_count": null,
   "id": "c96148ca-b37a-4eaa-aedf-3564bd7085c7",
   "metadata": {},
   "outputs": [],
   "source": []
  }
 ],
 "metadata": {
  "kernelspec": {
   "display_name": "Python 3 (ipykernel)",
   "language": "python",
   "name": "python3"
  },
  "language_info": {
   "codemirror_mode": {
    "name": "ipython",
    "version": 3
   },
   "file_extension": ".py",
   "mimetype": "text/x-python",
   "name": "python",
   "nbconvert_exporter": "python",
   "pygments_lexer": "ipython3",
   "version": "3.10.6"
  }
 },
 "nbformat": 4,
 "nbformat_minor": 5
}
